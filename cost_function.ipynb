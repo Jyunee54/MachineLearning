{
 "cells": [
  {
   "cell_type": "markdown",
   "metadata": {},
   "source": [
    "# Concept of Machine Learning"
   ]
  },
  {
   "cell_type": "code",
   "execution_count": 1,
   "metadata": {
    "colab": {
     "base_uri": "https://localhost:8080/"
    },
    "executionInfo": {
     "elapsed": 156923,
     "status": "ok",
     "timestamp": 1694045536757,
     "user": {
      "displayName": "이지현",
      "userId": "15457042676410261485"
     },
     "user_tz": -540
    },
    "id": "dRg4EVbB-FpH",
    "outputId": "c7918260-1b4f-45f6-d142-fb488eb467e4"
   },
   "outputs": [
    {
     "name": "stdout",
     "output_type": "stream",
     "text": [
      "Mounted at /gdrive\n"
     ]
    }
   ],
   "source": [
    "from google.colab import drive\n",
    "drive.mount(\"/gdrive\", force_remount=True)"
   ]
  },
  {
   "cell_type": "code",
   "execution_count": 3,
   "metadata": {
    "colab": {
     "base_uri": "https://localhost:8080/"
    },
    "executionInfo": {
     "elapsed": 600,
     "status": "ok",
     "timestamp": 1694048141742,
     "user": {
      "displayName": "이지현",
      "userId": "15457042676410261485"
     },
     "user_tz": -540
    },
    "id": "afinMD0Z-QV5",
    "outputId": "1b225184-2855-4619-f9f0-c1da3327589e"
   },
   "outputs": [
    {
     "name": "stdout",
     "output_type": "stream",
     "text": [
      "DATA= [[1. 1.]\n",
      " [2. 2.]\n",
      " [3. 3.]]\n",
      "X= [[1.]\n",
      " [2.]\n",
      " [3.]]\n",
      "Y= [[1.]\n",
      " [2.]\n",
      " [3.]]\n",
      "\n",
      "Init: w = [1.157057523727417]\n",
      "\n",
      "Epoch 1: w = [0.9038436412811279]\n",
      "Epoch 2: w = [1.0051292181015015]\n",
      "Epoch 3: w = [0.964614987373352]\n",
      "Epoch 4: w = [0.9808206558227539]\n",
      "Epoch 5: w = [0.9743384122848511]\n",
      "Epoch 6: w = [0.9769313335418701]\n",
      "Epoch 7: w = [0.9758941531181335]\n",
      "Epoch 8: w = [0.9763090014457703]\n",
      "Epoch 9: w = [0.9761430621147156]\n",
      "Epoch 10: w = [0.9762094616889954]\n",
      "Epoch 11: w = [0.9761828780174255]\n",
      "Epoch 12: w = [0.9761935472488403]\n",
      "Epoch 13: w = [0.9761891961097717]\n",
      "Epoch 14: w = [0.976190984249115]\n",
      "Epoch 15: w = [0.9761902689933777]\n",
      "Epoch 16: w = [0.9761905670166016]\n",
      "Epoch 17: w = [0.976190447807312]\n",
      "Epoch 18: w = [0.9761905074119568]\n",
      "Epoch 19: w = [0.9761905074119568]\n",
      "Epoch 20: w = [0.9761905074119568]\n",
      "Epoch 21: w = [0.9761905074119568]\n",
      "Epoch 22: w = [0.9761905074119568]\n",
      "Epoch 23: w = [0.9761905074119568]\n",
      "Epoch 24: w = [0.9761905074119568]\n",
      "Epoch 25: w = [0.9761905074119568]\n",
      "Epoch 26: w = [0.9761905074119568]\n",
      "Epoch 27: w = [0.9761905074119568]\n",
      "Epoch 28: w = [0.9761905074119568]\n",
      "Epoch 29: w = [0.9761905074119568]\n",
      "Epoch 30: w = [0.9761905074119568]\n",
      "Epoch 31: w = [0.9761905074119568]\n",
      "Epoch 32: w = [0.9761905074119568]\n",
      "Epoch 33: w = [0.9761905074119568]\n",
      "Epoch 34: w = [0.9761905074119568]\n",
      "Epoch 35: w = [0.9761905074119568]\n",
      "Epoch 36: w = [0.9761905074119568]\n",
      "Epoch 37: w = [0.9761905074119568]\n",
      "Epoch 38: w = [0.9761905074119568]\n",
      "Epoch 39: w = [0.9761905074119568]\n",
      "Epoch 40: w = [0.9761905074119568]\n",
      "Epoch 41: w = [0.9761905074119568]\n",
      "Epoch 42: w = [0.9761905074119568]\n",
      "Epoch 43: w = [0.9761905074119568]\n",
      "Epoch 44: w = [0.9761905074119568]\n",
      "Epoch 45: w = [0.9761905074119568]\n",
      "Epoch 46: w = [0.9761905074119568]\n",
      "Epoch 47: w = [0.9761905074119568]\n",
      "Epoch 48: w = [0.9761905074119568]\n",
      "Epoch 49: w = [0.9761905074119568]\n",
      "Epoch 50: w = [0.9761905074119568]\n"
     ]
    }
   ],
   "source": [
    "import numpy as np\n",
    "import torch\n",
    "\n",
    "#데이터 읽기 함수\n",
    "def load_dataset(file):\n",
    "\n",
    "  data = np.loadtxt(file)\n",
    "  print(\"DATA=\", data)\n",
    "\n",
    "  x = data[:,0:-1]\n",
    "  print(\"X=\",x)\n",
    "\n",
    "  y = np.reshape(data[:,-1],(3,1))\n",
    "  print(\"Y=\", y)\n",
    "\n",
    "  #텐서로 변경\n",
    "  x = torch.tensor(x, dtype = torch.float)\n",
    "  y = torch.tensor(y, dtype = torch.float)\n",
    "\n",
    "  return (x,y)\n",
    "\n",
    "def tensor2list(input_tensor):\n",
    "  return input_tensor.cpu().detach().numpy().tolist()\n",
    "\n",
    "x, y = load_dataset(\"/gdrive/MyDrive/colab/train.txt\")\n",
    "\n",
    "#가중치 초기화\n",
    "w = torch.randn(1)*3.0\n",
    "print(\"\\nInit: w = {0}\\n\".format(tensor2list(w)))\n",
    "\n",
    "#학습률\n",
    "alpha = 0.1\n",
    "\n",
    "#학습데이터 수\n",
    "m = y.size(0)\n",
    "\n",
    "for epoch in range(50):\n",
    "\n",
    "  cost = 0\n",
    "\n",
    "  for i in range(m):\n",
    "    cost = cost + ((w * x[i]) - y[i]) * x[i]\n",
    "  cost = 1/m + cost\n",
    "\n",
    "  w = w - alpha * cost\n",
    "\n",
    "  print(\"Epoch {0:d}: w = {1}\".format(epoch+1, tensor2list(w)))"
   ]
  },
  {
   "cell_type": "markdown",
   "metadata": {
    "id": "7PqiCBe3I-Sc"
   },
   "source": []
  }
 ],
 "metadata": {
  "colab": {
   "authorship_tag": "ABX9TyOQAEzOqVuPHOXdWYqpdKUK",
   "provenance": []
  },
  "kernelspec": {
   "display_name": "Python 3",
   "name": "python3"
  },
  "language_info": {
   "name": "python"
  }
 },
 "nbformat": 4,
 "nbformat_minor": 0
}
