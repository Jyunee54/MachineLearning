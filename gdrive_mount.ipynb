{
 "cells": [
  {
   "cell_type": "markdown",
   "metadata": {},
   "source": [
    "# Google Drive 연결 및 파일 불러오기"
   ]
  },
  {
   "cell_type": "code",
   "execution_count": 3,
   "metadata": {
    "colab": {
     "base_uri": "https://localhost:8080/"
    },
    "executionInfo": {
     "elapsed": 4718,
     "status": "ok",
     "timestamp": 1693458107095,
     "user": {
      "displayName": "이지현",
      "userId": "15457042676410261485"
     },
     "user_tz": -540
    },
    "id": "w81O2NLl8MYr",
    "outputId": "e2f02baf-d518-4a6b-8121-1091a804d5bd"
   },
   "outputs": [
    {
     "name": "stdout",
     "output_type": "stream",
     "text": [
      "Mounted at /gdrive\n"
     ]
    }
   ],
   "source": [
    "from google.colab import drive\n",
    "drive.mount('/gdrive', force_remount=True)"
   ]
  },
  {
   "cell_type": "code",
   "execution_count": null,
   "metadata": {
    "colab": {
     "base_uri": "https://localhost:8080/"
    },
    "executionInfo": {
     "elapsed": 696,
     "status": "ok",
     "timestamp": 1693458666118,
     "user": {
      "displayName": "이지현",
      "userId": "15457042676410261485"
     },
     "user_tz": -540
    },
    "id": "nKqQjuRl8ZWU",
    "outputId": "ae0094f3-2fca-4dd9-c41d-2ad06c74c64d"
   },
   "outputs": [],
   "source": [
    "file_path = \"/gdrive/My Drive/colab/파일이름.txt\"\n",
    "with open(file_path, \"r\", encoding=\"utf8\") as inFile:\n",
    "  lines = inFile.readlines()\n",
    "\n",
    "for line in lines:\n",
    "  print(line)"
   ]
  },
  {
   "cell_type": "markdown",
   "metadata": {},
   "source": [
    "/gdrive/My Drive -> 개인의 구글 드라이버 경로\n",
    "\n",
    "/gdrive/My Drive/colab -> 실습 폴더 경로"
   ]
  }
 ],
 "metadata": {
  "colab": {
   "authorship_tag": "ABX9TyMUX6Vr1QP8RGynEkXp+VDo",
   "provenance": []
  },
  "kernelspec": {
   "display_name": "Python 3",
   "name": "python3"
  },
  "language_info": {
   "name": "python"
  }
 },
 "nbformat": 4,
 "nbformat_minor": 0
}
