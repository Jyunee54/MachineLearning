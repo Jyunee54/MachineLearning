{
 "cells": [
  {
   "cell_type": "code",
   "execution_count": 1,
   "metadata": {
    "colab": {
     "base_uri": "https://localhost:8080/"
    },
    "executionInfo": {
     "elapsed": 22101,
     "status": "ok",
     "timestamp": 1695144707650,
     "user": {
      "displayName": "이지현",
      "userId": "15457042676410261485"
     },
     "user_tz": -540
    },
    "id": "RSvyNHyifnyM",
    "outputId": "8b7354b9-4174-41b9-b913-f9db9477ebf8"
   },
   "outputs": [
    {
     "name": "stdout",
     "output_type": "stream",
     "text": [
      "Mounted at /gdrive\n"
     ]
    }
   ],
   "source": [
    "from google.colab import drive\n",
    "drive.mount(\"/gdrive\", force_remount=True)"
   ]
  },
  {
   "cell_type": "code",
   "execution_count": 4,
   "metadata": {
    "colab": {
     "base_uri": "https://localhost:8080/"
    },
    "executionInfo": {
     "elapsed": 729,
     "status": "ok",
     "timestamp": 1695144806230,
     "user": {
      "displayName": "이지현",
      "userId": "15457042676410261485"
     },
     "user_tz": -540
    },
    "id": "5-SU8rLkfxUp",
    "outputId": "db81be92-40e1-4fc6-de16-2e500f5e32e4"
   },
   "outputs": [
    {
     "name": "stdout",
     "output_type": "stream",
     "text": [
      "     outlook  temp humidity  windy  day      time play\n",
      "0      sunny   hot     high  False  Mon  14:23:34   no\n",
      "1      sunny   hot     high   True  Sun  16:17:54   no\n",
      "2   overcast   hot     high  False  Thu  20:09:11  yes\n",
      "3      rainy  mild     high  False  Fri  12:45:42  yes\n",
      "4      rainy  cool   normal  False  Sat  10:22:45  yes\n",
      "5      rainy  cool   normal   True  Sun  11:03:12   no\n",
      "6   overcast  cool   normal   True  Wed  19:25:32  yes\n",
      "7      sunny  mild     high  False  Tue  18:03:21   no\n",
      "8      sunny  cool   normal  False  Fri  18:50:26  yes\n",
      "9      rainy  mild   normal  False  Sat   9:02:41  yes\n",
      "10     sunny  mild   normal   True  Mon  21:33:10  yes\n",
      "11  overcast  mild     high   True  Tue  20:27:30  yes\n",
      "12  overcast   hot   normal  False  Thu  16:22:04  yes\n",
      "13     rainy  mild     high   True  Fri  15:52:16   no\n"
     ]
    }
   ],
   "source": [
    "import pandas as pd\n",
    "from sklearn.preprocessing import LabelEncoder\n",
    "from sklearn import tree\n",
    "import graphviz\n",
    "\n",
    "#test1\n",
    "#시간 column을 텍스트 형태로 HH:MM:SS 형태로 받음\n",
    "\n",
    "file_path = \"${PlayTennis1.csv 파일 경로}\"\n",
    "datas = pd.read_csv(file_path)\n",
    "\n",
    "print(datas)"
   ]
  },
  {
   "cell_type": "code",
   "execution_count": 5,
   "metadata": {
    "colab": {
     "base_uri": "https://localhost:8080/"
    },
    "executionInfo": {
     "elapsed": 327,
     "status": "ok",
     "timestamp": 1695144841574,
     "user": {
      "displayName": "이지현",
      "userId": "15457042676410261485"
     },
     "user_tz": -540
    },
    "id": "Uwk8MmXYgAsJ",
    "outputId": "cf40aeb2-f0ba-4262-8ce5-d677e8937564"
   },
   "outputs": [
    {
     "name": "stdout",
     "output_type": "stream",
     "text": [
      "target_names : ['no' 'yes']\n",
      "    outlook  temp  humidity  windy  day  time  play\n",
      "0         2     1         0      0    1     3     0\n",
      "1         2     1         0      1    3     5     0\n",
      "2         0     1         0      0    4    10     1\n",
      "3         1     2         0      0    0     2     1\n",
      "4         1     0         1      0    2     0     1\n",
      "5         1     0         1      1    3     1     0\n",
      "6         0     0         1      1    6     9     1\n",
      "7         2     2         0      0    5     7     0\n",
      "8         2     0         1      0    0     8     1\n",
      "9         1     2         1      0    2    13     1\n",
      "10        2     2         1      1    1    12     1\n",
      "11        0     2         0      1    5    11     1\n",
      "12        0     1         1      0    4     6     1\n",
      "13        1     2         0      1    0     4     0\n"
     ]
    }
   ],
   "source": [
    "label_encoder = LabelEncoder()\n",
    "\n",
    "target_names = label_encoder.fit(datas['play']).classes_\n",
    "print(\"target_names : {}\".format(target_names))\n",
    "\n",
    "datas['outlook'] = label_encoder.fit_transform(datas['outlook'])\n",
    "datas['temp'] = label_encoder.fit_transform(datas['temp'])\n",
    "datas['humidity'] = label_encoder.fit_transform(datas['humidity'])\n",
    "datas['windy'] = label_encoder.fit_transform(datas['windy'])\n",
    "datas['play'] = label_encoder.fit_transform(datas['play'])\n",
    "datas['day'] = label_encoder.fit_transform(datas['day'])\n",
    "datas['time'] = label_encoder.fit_transform(datas['time'])\n",
    "\n",
    "print(datas)"
   ]
  },
  {
   "cell_type": "code",
   "execution_count": 6,
   "metadata": {
    "colab": {
     "base_uri": "https://localhost:8080/"
    },
    "executionInfo": {
     "elapsed": 305,
     "status": "ok",
     "timestamp": 1695144868642,
     "user": {
      "displayName": "이지현",
      "userId": "15457042676410261485"
     },
     "user_tz": -540
    },
    "id": "2TtqsNX9gY0z",
    "outputId": "b251559f-2e0e-419e-e3df-26a3c606e170"
   },
   "outputs": [
    {
     "name": "stdout",
     "output_type": "stream",
     "text": [
      "    outlook  temp  humidity  windy  day  time\n",
      "0         2     1         0      0    1     3\n",
      "1         2     1         0      1    3     5\n",
      "2         0     1         0      0    4    10\n",
      "3         1     2         0      0    0     2\n",
      "4         1     0         1      0    2     0\n",
      "5         1     0         1      1    3     1\n",
      "6         0     0         1      1    6     9\n",
      "7         2     2         0      0    5     7\n",
      "8         2     0         1      0    0     8\n",
      "9         1     2         1      0    2    13\n",
      "10        2     2         1      1    1    12\n",
      "11        0     2         0      1    5    11\n",
      "12        0     1         1      0    4     6\n",
      "13        1     2         0      1    0     4\n",
      "\n",
      "0     0\n",
      "1     0\n",
      "2     1\n",
      "3     1\n",
      "4     1\n",
      "5     0\n",
      "6     1\n",
      "7     0\n",
      "8     1\n",
      "9     1\n",
      "10    1\n",
      "11    1\n",
      "12    1\n",
      "13    0\n",
      "Name: play, dtype: int64\n"
     ]
    }
   ],
   "source": [
    "x_data, y_data = datas.drop(['play'], axis=1), datas['play']\n",
    "\n",
    "print(x_data)\n",
    "print()\n",
    "print(y_data)"
   ]
  },
  {
   "cell_type": "code",
   "execution_count": 7,
   "metadata": {
    "executionInfo": {
     "elapsed": 8,
     "status": "ok",
     "timestamp": 1695144877803,
     "user": {
      "displayName": "이지현",
      "userId": "15457042676410261485"
     },
     "user_tz": -540
    },
    "id": "wBATTxxggfbA"
   },
   "outputs": [],
   "source": [
    "decision_tree = tree.DecisionTreeClassifier(criterion = 'entropy')\n",
    "train_result = decision_tree.fit(x_data, y_data)"
   ]
  },
  {
   "cell_type": "code",
   "execution_count": 8,
   "metadata": {
    "colab": {
     "base_uri": "https://localhost:8080/",
     "height": 597
    },
    "executionInfo": {
     "elapsed": 283,
     "status": "ok",
     "timestamp": 1695144891388,
     "user": {
      "displayName": "이지현",
      "userId": "15457042676410261485"
     },
     "user_tz": -540
    },
    "id": "QKX2VVMeghzH",
    "outputId": "41058775-8327-4dc2-b035-13b22706d724"
   },
   "outputs": [
    {
     "data": {
      "image/svg+xml": [
       "<?xml version=\"1.0\" encoding=\"UTF-8\" standalone=\"no\"?>\n",
       "<!DOCTYPE svg PUBLIC \"-//W3C//DTD SVG 1.1//EN\"\n",
       " \"http://www.w3.org/Graphics/SVG/1.1/DTD/svg11.dtd\">\n",
       "<!-- Generated by graphviz version 2.43.0 (0)\n",
       " -->\n",
       "<!-- Title: Tree Pages: 1 -->\n",
       "<svg width=\"344pt\" height=\"433pt\"\n",
       " viewBox=\"0.00 0.00 344.00 433.00\" xmlns=\"http://www.w3.org/2000/svg\" xmlns:xlink=\"http://www.w3.org/1999/xlink\">\n",
       "<g id=\"graph0\" class=\"graph\" transform=\"scale(1 1) rotate(0) translate(4 429)\">\n",
       "<title>Tree</title>\n",
       "<polygon fill=\"white\" stroke=\"transparent\" points=\"-4,4 -4,-429 340,-429 340,4 -4,4\"/>\n",
       "<!-- 0 -->\n",
       "<g id=\"node1\" class=\"node\">\n",
       "<title>0</title>\n",
       "<polygon fill=\"none\" stroke=\"black\" points=\"279,-425 175,-425 175,-342 279,-342 279,-425\"/>\n",
       "<text text-anchor=\"middle\" x=\"227\" y=\"-409.8\" font-family=\"Helvetica,sans-Serif\" font-size=\"14.00\">time &lt;= 7.5</text>\n",
       "<text text-anchor=\"middle\" x=\"227\" y=\"-394.8\" font-family=\"Helvetica,sans-Serif\" font-size=\"14.00\">entropy = 0.94</text>\n",
       "<text text-anchor=\"middle\" x=\"227\" y=\"-379.8\" font-family=\"Helvetica,sans-Serif\" font-size=\"14.00\">samples = 14</text>\n",
       "<text text-anchor=\"middle\" x=\"227\" y=\"-364.8\" font-family=\"Helvetica,sans-Serif\" font-size=\"14.00\">value = [5, 9]</text>\n",
       "<text text-anchor=\"middle\" x=\"227\" y=\"-349.8\" font-family=\"Helvetica,sans-Serif\" font-size=\"14.00\">class = yes</text>\n",
       "</g>\n",
       "<!-- 1 -->\n",
       "<g id=\"node2\" class=\"node\">\n",
       "<title>1</title>\n",
       "<polygon fill=\"none\" stroke=\"black\" points=\"221.5,-306 110.5,-306 110.5,-223 221.5,-223 221.5,-306\"/>\n",
       "<text text-anchor=\"middle\" x=\"166\" y=\"-290.8\" font-family=\"Helvetica,sans-Serif\" font-size=\"14.00\">outlook &lt;= 1.5</text>\n",
       "<text text-anchor=\"middle\" x=\"166\" y=\"-275.8\" font-family=\"Helvetica,sans-Serif\" font-size=\"14.00\">entropy = 0.954</text>\n",
       "<text text-anchor=\"middle\" x=\"166\" y=\"-260.8\" font-family=\"Helvetica,sans-Serif\" font-size=\"14.00\">samples = 8</text>\n",
       "<text text-anchor=\"middle\" x=\"166\" y=\"-245.8\" font-family=\"Helvetica,sans-Serif\" font-size=\"14.00\">value = [5, 3]</text>\n",
       "<text text-anchor=\"middle\" x=\"166\" y=\"-230.8\" font-family=\"Helvetica,sans-Serif\" font-size=\"14.00\">class = no</text>\n",
       "</g>\n",
       "<!-- 0&#45;&gt;1 -->\n",
       "<g id=\"edge1\" class=\"edge\">\n",
       "<title>0&#45;&gt;1</title>\n",
       "<path fill=\"none\" stroke=\"black\" d=\"M205.84,-341.91C201.29,-333.2 196.45,-323.9 191.75,-314.89\"/>\n",
       "<polygon fill=\"black\" stroke=\"black\" points=\"194.85,-313.27 187.13,-306.02 188.65,-316.51 194.85,-313.27\"/>\n",
       "<text text-anchor=\"middle\" x=\"179.62\" y=\"-326.17\" font-family=\"Helvetica,sans-Serif\" font-size=\"14.00\">True</text>\n",
       "</g>\n",
       "<!-- 6 -->\n",
       "<g id=\"node7\" class=\"node\">\n",
       "<title>6</title>\n",
       "<polygon fill=\"none\" stroke=\"black\" points=\"336,-298.5 240,-298.5 240,-230.5 336,-230.5 336,-298.5\"/>\n",
       "<text text-anchor=\"middle\" x=\"288\" y=\"-283.3\" font-family=\"Helvetica,sans-Serif\" font-size=\"14.00\">entropy = 0.0</text>\n",
       "<text text-anchor=\"middle\" x=\"288\" y=\"-268.3\" font-family=\"Helvetica,sans-Serif\" font-size=\"14.00\">samples = 6</text>\n",
       "<text text-anchor=\"middle\" x=\"288\" y=\"-253.3\" font-family=\"Helvetica,sans-Serif\" font-size=\"14.00\">value = [0, 6]</text>\n",
       "<text text-anchor=\"middle\" x=\"288\" y=\"-238.3\" font-family=\"Helvetica,sans-Serif\" font-size=\"14.00\">class = yes</text>\n",
       "</g>\n",
       "<!-- 0&#45;&gt;6 -->\n",
       "<g id=\"edge6\" class=\"edge\">\n",
       "<title>0&#45;&gt;6</title>\n",
       "<path fill=\"none\" stroke=\"black\" d=\"M248.16,-341.91C253.92,-330.87 260.16,-318.9 265.96,-307.77\"/>\n",
       "<polygon fill=\"black\" stroke=\"black\" points=\"269.19,-309.15 270.71,-298.67 262.98,-305.92 269.19,-309.15\"/>\n",
       "<text text-anchor=\"middle\" x=\"278.21\" y=\"-318.81\" font-family=\"Helvetica,sans-Serif\" font-size=\"14.00\">False</text>\n",
       "</g>\n",
       "<!-- 2 -->\n",
       "<g id=\"node3\" class=\"node\">\n",
       "<title>2</title>\n",
       "<polygon fill=\"none\" stroke=\"black\" points=\"160.5,-187 49.5,-187 49.5,-104 160.5,-104 160.5,-187\"/>\n",
       "<text text-anchor=\"middle\" x=\"105\" y=\"-171.8\" font-family=\"Helvetica,sans-Serif\" font-size=\"14.00\">windy &lt;= 0.5</text>\n",
       "<text text-anchor=\"middle\" x=\"105\" y=\"-156.8\" font-family=\"Helvetica,sans-Serif\" font-size=\"14.00\">entropy = 0.971</text>\n",
       "<text text-anchor=\"middle\" x=\"105\" y=\"-141.8\" font-family=\"Helvetica,sans-Serif\" font-size=\"14.00\">samples = 5</text>\n",
       "<text text-anchor=\"middle\" x=\"105\" y=\"-126.8\" font-family=\"Helvetica,sans-Serif\" font-size=\"14.00\">value = [2, 3]</text>\n",
       "<text text-anchor=\"middle\" x=\"105\" y=\"-111.8\" font-family=\"Helvetica,sans-Serif\" font-size=\"14.00\">class = yes</text>\n",
       "</g>\n",
       "<!-- 1&#45;&gt;2 -->\n",
       "<g id=\"edge2\" class=\"edge\">\n",
       "<title>1&#45;&gt;2</title>\n",
       "<path fill=\"none\" stroke=\"black\" d=\"M144.84,-222.91C140.29,-214.2 135.45,-204.9 130.75,-195.89\"/>\n",
       "<polygon fill=\"black\" stroke=\"black\" points=\"133.85,-194.27 126.13,-187.02 127.65,-197.51 133.85,-194.27\"/>\n",
       "</g>\n",
       "<!-- 5 -->\n",
       "<g id=\"node6\" class=\"node\">\n",
       "<title>5</title>\n",
       "<polygon fill=\"none\" stroke=\"black\" points=\"275,-179.5 179,-179.5 179,-111.5 275,-111.5 275,-179.5\"/>\n",
       "<text text-anchor=\"middle\" x=\"227\" y=\"-164.3\" font-family=\"Helvetica,sans-Serif\" font-size=\"14.00\">entropy = 0.0</text>\n",
       "<text text-anchor=\"middle\" x=\"227\" y=\"-149.3\" font-family=\"Helvetica,sans-Serif\" font-size=\"14.00\">samples = 3</text>\n",
       "<text text-anchor=\"middle\" x=\"227\" y=\"-134.3\" font-family=\"Helvetica,sans-Serif\" font-size=\"14.00\">value = [3, 0]</text>\n",
       "<text text-anchor=\"middle\" x=\"227\" y=\"-119.3\" font-family=\"Helvetica,sans-Serif\" font-size=\"14.00\">class = no</text>\n",
       "</g>\n",
       "<!-- 1&#45;&gt;5 -->\n",
       "<g id=\"edge5\" class=\"edge\">\n",
       "<title>1&#45;&gt;5</title>\n",
       "<path fill=\"none\" stroke=\"black\" d=\"M187.16,-222.91C192.92,-211.87 199.16,-199.9 204.96,-188.77\"/>\n",
       "<polygon fill=\"black\" stroke=\"black\" points=\"208.19,-190.15 209.71,-179.67 201.98,-186.92 208.19,-190.15\"/>\n",
       "</g>\n",
       "<!-- 3 -->\n",
       "<g id=\"node4\" class=\"node\">\n",
       "<title>3</title>\n",
       "<polygon fill=\"none\" stroke=\"black\" points=\"96,-68 0,-68 0,0 96,0 96,-68\"/>\n",
       "<text text-anchor=\"middle\" x=\"48\" y=\"-52.8\" font-family=\"Helvetica,sans-Serif\" font-size=\"14.00\">entropy = 0.0</text>\n",
       "<text text-anchor=\"middle\" x=\"48\" y=\"-37.8\" font-family=\"Helvetica,sans-Serif\" font-size=\"14.00\">samples = 3</text>\n",
       "<text text-anchor=\"middle\" x=\"48\" y=\"-22.8\" font-family=\"Helvetica,sans-Serif\" font-size=\"14.00\">value = [0, 3]</text>\n",
       "<text text-anchor=\"middle\" x=\"48\" y=\"-7.8\" font-family=\"Helvetica,sans-Serif\" font-size=\"14.00\">class = yes</text>\n",
       "</g>\n",
       "<!-- 2&#45;&gt;3 -->\n",
       "<g id=\"edge3\" class=\"edge\">\n",
       "<title>2&#45;&gt;3</title>\n",
       "<path fill=\"none\" stroke=\"black\" d=\"M83.78,-103.73C79.26,-95.06 74.49,-85.9 69.96,-77.18\"/>\n",
       "<polygon fill=\"black\" stroke=\"black\" points=\"73.06,-75.55 65.33,-68.3 66.85,-78.79 73.06,-75.55\"/>\n",
       "</g>\n",
       "<!-- 4 -->\n",
       "<g id=\"node5\" class=\"node\">\n",
       "<title>4</title>\n",
       "<polygon fill=\"none\" stroke=\"black\" points=\"210,-68 114,-68 114,0 210,0 210,-68\"/>\n",
       "<text text-anchor=\"middle\" x=\"162\" y=\"-52.8\" font-family=\"Helvetica,sans-Serif\" font-size=\"14.00\">entropy = 0.0</text>\n",
       "<text text-anchor=\"middle\" x=\"162\" y=\"-37.8\" font-family=\"Helvetica,sans-Serif\" font-size=\"14.00\">samples = 2</text>\n",
       "<text text-anchor=\"middle\" x=\"162\" y=\"-22.8\" font-family=\"Helvetica,sans-Serif\" font-size=\"14.00\">value = [2, 0]</text>\n",
       "<text text-anchor=\"middle\" x=\"162\" y=\"-7.8\" font-family=\"Helvetica,sans-Serif\" font-size=\"14.00\">class = no</text>\n",
       "</g>\n",
       "<!-- 2&#45;&gt;4 -->\n",
       "<g id=\"edge4\" class=\"edge\">\n",
       "<title>2&#45;&gt;4</title>\n",
       "<path fill=\"none\" stroke=\"black\" d=\"M126.22,-103.73C130.74,-95.06 135.51,-85.9 140.04,-77.18\"/>\n",
       "<polygon fill=\"black\" stroke=\"black\" points=\"143.15,-78.79 144.67,-68.3 136.94,-75.55 143.15,-78.79\"/>\n",
       "</g>\n",
       "</g>\n",
       "</svg>\n"
      ],
      "text/plain": [
       "<graphviz.sources.Source at 0x7bae758b7eb0>"
      ]
     },
     "execution_count": 8,
     "metadata": {},
     "output_type": "execute_result"
    }
   ],
   "source": [
    "graph = graphviz.Source(tree.export_graphviz(train_result, out_file=None,\n",
    "                                             feature_names=x_data.columns,\n",
    "                                             class_names=target_names))\n",
    "graph"
   ]
  },
  {
   "cell_type": "code",
   "execution_count": 9,
   "metadata": {
    "colab": {
     "base_uri": "https://localhost:8080/"
    },
    "executionInfo": {
     "elapsed": 421,
     "status": "ok",
     "timestamp": 1695144915291,
     "user": {
      "displayName": "이지현",
      "userId": "15457042676410261485"
     },
     "user_tz": -540
    },
    "id": "OZzO3wHzgk_i",
    "outputId": "a7ad9037-caf7-4cec-e2cf-9341be66ed61"
   },
   "outputs": [
    {
     "name": "stdout",
     "output_type": "stream",
     "text": [
      "0     True\n",
      "1     True\n",
      "2     True\n",
      "3     True\n",
      "4     True\n",
      "5     True\n",
      "6     True\n",
      "7     True\n",
      "8     True\n",
      "9     True\n",
      "10    True\n",
      "11    True\n",
      "12    True\n",
      "13    True\n",
      "Name: play, dtype: bool\n"
     ]
    }
   ],
   "source": [
    "predict_result = decision_tree.predict(x_data)\n",
    "\n",
    "print(predict_result == y_data)"
   ]
  },
  {
   "cell_type": "code",
   "execution_count": 10,
   "metadata": {
    "colab": {
     "base_uri": "https://localhost:8080/"
    },
    "executionInfo": {
     "elapsed": 750,
     "status": "ok",
     "timestamp": 1695145146560,
     "user": {
      "displayName": "이지현",
      "userId": "15457042676410261485"
     },
     "user_tz": -540
    },
    "id": "Bl59k0a3gqwz",
    "outputId": "8030cf29-8236-402a-9656-59e66d081c18"
   },
   "outputs": [
    {
     "name": "stdout",
     "output_type": "stream",
     "text": [
      "     outlook  temp humidity  windy  day  hours play\n",
      "0      sunny   hot     high  False  Mon     14   no\n",
      "1      sunny   hot     high   True  Sun     16   no\n",
      "2   overcast   hot     high  False  Thu     20  yes\n",
      "3      rainy  mild     high  False  Fri     12  yes\n",
      "4      rainy  cool   normal  False  Sat     10  yes\n",
      "5      rainy  cool   normal   True  Sun      6   no\n",
      "6   overcast  cool   normal   True  Wed     19  yes\n",
      "7      sunny  mild     high  False  Tue      2   no\n",
      "8      sunny  cool   normal  False  Fri     18  yes\n",
      "9      rainy  mild   normal  False  Sat      9  yes\n",
      "10     sunny  mild   normal   True  Mon     21  yes\n",
      "11  overcast  mild     high   True  Tue     20  yes\n",
      "12  overcast   hot   normal  False  Thu     16  yes\n",
      "13     rainy  mild     high   True  Fri     15   no\n"
     ]
    }
   ],
   "source": [
    "#test2\n",
    "#시간을 hours로만 받음(분/초는 생략)\n",
    "\n",
    "file_path = \"${PlayTennis2.csv 파일 경로}\"\n",
    "datas = pd.read_csv(file_path)\n",
    "print(datas)"
   ]
  },
  {
   "cell_type": "code",
   "execution_count": 11,
   "metadata": {
    "colab": {
     "base_uri": "https://localhost:8080/"
    },
    "executionInfo": {
     "elapsed": 284,
     "status": "ok",
     "timestamp": 1695145219910,
     "user": {
      "displayName": "이지현",
      "userId": "15457042676410261485"
     },
     "user_tz": -540
    },
    "id": "xZvoEW_khjLk",
    "outputId": "73c6fd88-50e4-404c-e391-14ce0a80da1a"
   },
   "outputs": [
    {
     "name": "stdout",
     "output_type": "stream",
     "text": [
      "target_names : ['no' 'yes']\n",
      "    outlook  temp  humidity  windy  day  hours  play\n",
      "0         2     1         0      0    1      5     0\n",
      "1         2     1         0      1    3      7     0\n",
      "2         0     1         0      0    4     10     1\n",
      "3         1     2         0      0    0      4     1\n",
      "4         1     0         1      0    2      3     1\n",
      "5         1     0         1      1    3      1     0\n",
      "6         0     0         1      1    6      9     1\n",
      "7         2     2         0      0    5      0     0\n",
      "8         2     0         1      0    0      8     1\n",
      "9         1     2         1      0    2      2     1\n",
      "10        2     2         1      1    1     11     1\n",
      "11        0     2         0      1    5     10     1\n",
      "12        0     1         1      0    4      7     1\n",
      "13        1     2         0      1    0      6     0\n"
     ]
    }
   ],
   "source": [
    "label_encoder = LabelEncoder()\n",
    "\n",
    "#정답 클래스 이름 (yes, no)\n",
    "target_names = label_encoder.fit(datas['play']).classes_\n",
    "print(\"target_names : {}\".format(target_names))\n",
    "\n",
    "datas['outlook'] = label_encoder.fit_transform(datas['outlook'])\n",
    "datas['temp'] = label_encoder.fit_transform(datas['temp'])\n",
    "datas['humidity'] = label_encoder.fit_transform(datas['humidity'])\n",
    "datas['windy'] = label_encoder.fit_transform(datas['windy'])\n",
    "datas['day'] = label_encoder.fit_transform(datas['day'])\n",
    "datas['hours'] = label_encoder.fit_transform(datas['hours'])\n",
    "datas['play'] = label_encoder.fit_transform(datas['play'])\n",
    "\n",
    "print(datas)"
   ]
  },
  {
   "cell_type": "code",
   "execution_count": 12,
   "metadata": {
    "colab": {
     "base_uri": "https://localhost:8080/"
    },
    "executionInfo": {
     "elapsed": 318,
     "status": "ok",
     "timestamp": 1695145233950,
     "user": {
      "displayName": "이지현",
      "userId": "15457042676410261485"
     },
     "user_tz": -540
    },
    "id": "MZ7rH3-fh1NF",
    "outputId": "fd7fb760-717e-476b-ef6b-655bd1fc4eb2"
   },
   "outputs": [
    {
     "name": "stdout",
     "output_type": "stream",
     "text": [
      "    outlook  temp  humidity  windy  day  hours\n",
      "0         2     1         0      0    1      5\n",
      "1         2     1         0      1    3      7\n",
      "2         0     1         0      0    4     10\n",
      "3         1     2         0      0    0      4\n",
      "4         1     0         1      0    2      3\n",
      "5         1     0         1      1    3      1\n",
      "6         0     0         1      1    6      9\n",
      "7         2     2         0      0    5      0\n",
      "8         2     0         1      0    0      8\n",
      "9         1     2         1      0    2      2\n",
      "10        2     2         1      1    1     11\n",
      "11        0     2         0      1    5     10\n",
      "12        0     1         1      0    4      7\n",
      "13        1     2         0      1    0      6\n",
      "\n",
      "0     0\n",
      "1     0\n",
      "2     1\n",
      "3     1\n",
      "4     1\n",
      "5     0\n",
      "6     1\n",
      "7     0\n",
      "8     1\n",
      "9     1\n",
      "10    1\n",
      "11    1\n",
      "12    1\n",
      "13    0\n",
      "Name: play, dtype: int64\n"
     ]
    }
   ],
   "source": [
    "x_data, y_data = datas.drop(['play'], axis=1), datas['play']\n",
    "\n",
    "print(x_data)\n",
    "print()\n",
    "print(y_data)"
   ]
  },
  {
   "cell_type": "code",
   "execution_count": 13,
   "metadata": {
    "executionInfo": {
     "elapsed": 282,
     "status": "ok",
     "timestamp": 1695145251010,
     "user": {
      "displayName": "이지현",
      "userId": "15457042676410261485"
     },
     "user_tz": -540
    },
    "id": "IT_zSxAch4n1"
   },
   "outputs": [],
   "source": [
    "decision_tree = tree.DecisionTreeClassifier(criterion = 'entropy')\n",
    "train_result = decision_tree.fit(x_data, y_data)"
   ]
  },
  {
   "cell_type": "code",
   "execution_count": 14,
   "metadata": {
    "colab": {
     "base_uri": "https://localhost:8080/",
     "height": 597
    },
    "executionInfo": {
     "elapsed": 303,
     "status": "ok",
     "timestamp": 1695145260853,
     "user": {
      "displayName": "이지현",
      "userId": "15457042676410261485"
     },
     "user_tz": -540
    },
    "id": "BRNE4e0Fh8ya",
    "outputId": "a591c50f-b70a-45a8-b6e3-8c0c85002efd"
   },
   "outputs": [
    {
     "data": {
      "image/svg+xml": [
       "<?xml version=\"1.0\" encoding=\"UTF-8\" standalone=\"no\"?>\n",
       "<!DOCTYPE svg PUBLIC \"-//W3C//DTD SVG 1.1//EN\"\n",
       " \"http://www.w3.org/Graphics/SVG/1.1/DTD/svg11.dtd\">\n",
       "<!-- Generated by graphviz version 2.43.0 (0)\n",
       " -->\n",
       "<!-- Title: Tree Pages: 1 -->\n",
       "<svg width=\"344pt\" height=\"433pt\"\n",
       " viewBox=\"0.00 0.00 344.00 433.00\" xmlns=\"http://www.w3.org/2000/svg\" xmlns:xlink=\"http://www.w3.org/1999/xlink\">\n",
       "<g id=\"graph0\" class=\"graph\" transform=\"scale(1 1) rotate(0) translate(4 429)\">\n",
       "<title>Tree</title>\n",
       "<polygon fill=\"white\" stroke=\"transparent\" points=\"-4,4 -4,-429 340,-429 340,4 -4,4\"/>\n",
       "<!-- 0 -->\n",
       "<g id=\"node1\" class=\"node\">\n",
       "<title>0</title>\n",
       "<polygon fill=\"none\" stroke=\"black\" points=\"279,-425 175,-425 175,-342 279,-342 279,-425\"/>\n",
       "<text text-anchor=\"middle\" x=\"227\" y=\"-409.8\" font-family=\"Helvetica,sans-Serif\" font-size=\"14.00\">hours &lt;= 7.5</text>\n",
       "<text text-anchor=\"middle\" x=\"227\" y=\"-394.8\" font-family=\"Helvetica,sans-Serif\" font-size=\"14.00\">entropy = 0.94</text>\n",
       "<text text-anchor=\"middle\" x=\"227\" y=\"-379.8\" font-family=\"Helvetica,sans-Serif\" font-size=\"14.00\">samples = 14</text>\n",
       "<text text-anchor=\"middle\" x=\"227\" y=\"-364.8\" font-family=\"Helvetica,sans-Serif\" font-size=\"14.00\">value = [5, 9]</text>\n",
       "<text text-anchor=\"middle\" x=\"227\" y=\"-349.8\" font-family=\"Helvetica,sans-Serif\" font-size=\"14.00\">class = yes</text>\n",
       "</g>\n",
       "<!-- 1 -->\n",
       "<g id=\"node2\" class=\"node\">\n",
       "<title>1</title>\n",
       "<polygon fill=\"none\" stroke=\"black\" points=\"221.5,-306 110.5,-306 110.5,-223 221.5,-223 221.5,-306\"/>\n",
       "<text text-anchor=\"middle\" x=\"166\" y=\"-290.8\" font-family=\"Helvetica,sans-Serif\" font-size=\"14.00\">outlook &lt;= 1.5</text>\n",
       "<text text-anchor=\"middle\" x=\"166\" y=\"-275.8\" font-family=\"Helvetica,sans-Serif\" font-size=\"14.00\">entropy = 0.991</text>\n",
       "<text text-anchor=\"middle\" x=\"166\" y=\"-260.8\" font-family=\"Helvetica,sans-Serif\" font-size=\"14.00\">samples = 9</text>\n",
       "<text text-anchor=\"middle\" x=\"166\" y=\"-245.8\" font-family=\"Helvetica,sans-Serif\" font-size=\"14.00\">value = [5, 4]</text>\n",
       "<text text-anchor=\"middle\" x=\"166\" y=\"-230.8\" font-family=\"Helvetica,sans-Serif\" font-size=\"14.00\">class = no</text>\n",
       "</g>\n",
       "<!-- 0&#45;&gt;1 -->\n",
       "<g id=\"edge1\" class=\"edge\">\n",
       "<title>0&#45;&gt;1</title>\n",
       "<path fill=\"none\" stroke=\"black\" d=\"M205.84,-341.91C201.29,-333.2 196.45,-323.9 191.75,-314.89\"/>\n",
       "<polygon fill=\"black\" stroke=\"black\" points=\"194.85,-313.27 187.13,-306.02 188.65,-316.51 194.85,-313.27\"/>\n",
       "<text text-anchor=\"middle\" x=\"179.62\" y=\"-326.17\" font-family=\"Helvetica,sans-Serif\" font-size=\"14.00\">True</text>\n",
       "</g>\n",
       "<!-- 6 -->\n",
       "<g id=\"node7\" class=\"node\">\n",
       "<title>6</title>\n",
       "<polygon fill=\"none\" stroke=\"black\" points=\"336,-298.5 240,-298.5 240,-230.5 336,-230.5 336,-298.5\"/>\n",
       "<text text-anchor=\"middle\" x=\"288\" y=\"-283.3\" font-family=\"Helvetica,sans-Serif\" font-size=\"14.00\">entropy = 0.0</text>\n",
       "<text text-anchor=\"middle\" x=\"288\" y=\"-268.3\" font-family=\"Helvetica,sans-Serif\" font-size=\"14.00\">samples = 5</text>\n",
       "<text text-anchor=\"middle\" x=\"288\" y=\"-253.3\" font-family=\"Helvetica,sans-Serif\" font-size=\"14.00\">value = [0, 5]</text>\n",
       "<text text-anchor=\"middle\" x=\"288\" y=\"-238.3\" font-family=\"Helvetica,sans-Serif\" font-size=\"14.00\">class = yes</text>\n",
       "</g>\n",
       "<!-- 0&#45;&gt;6 -->\n",
       "<g id=\"edge6\" class=\"edge\">\n",
       "<title>0&#45;&gt;6</title>\n",
       "<path fill=\"none\" stroke=\"black\" d=\"M248.16,-341.91C253.92,-330.87 260.16,-318.9 265.96,-307.77\"/>\n",
       "<polygon fill=\"black\" stroke=\"black\" points=\"269.19,-309.15 270.71,-298.67 262.98,-305.92 269.19,-309.15\"/>\n",
       "<text text-anchor=\"middle\" x=\"278.21\" y=\"-318.81\" font-family=\"Helvetica,sans-Serif\" font-size=\"14.00\">False</text>\n",
       "</g>\n",
       "<!-- 2 -->\n",
       "<g id=\"node3\" class=\"node\">\n",
       "<title>2</title>\n",
       "<polygon fill=\"none\" stroke=\"black\" points=\"160.5,-187 49.5,-187 49.5,-104 160.5,-104 160.5,-187\"/>\n",
       "<text text-anchor=\"middle\" x=\"105\" y=\"-171.8\" font-family=\"Helvetica,sans-Serif\" font-size=\"14.00\">windy &lt;= 0.5</text>\n",
       "<text text-anchor=\"middle\" x=\"105\" y=\"-156.8\" font-family=\"Helvetica,sans-Serif\" font-size=\"14.00\">entropy = 0.918</text>\n",
       "<text text-anchor=\"middle\" x=\"105\" y=\"-141.8\" font-family=\"Helvetica,sans-Serif\" font-size=\"14.00\">samples = 6</text>\n",
       "<text text-anchor=\"middle\" x=\"105\" y=\"-126.8\" font-family=\"Helvetica,sans-Serif\" font-size=\"14.00\">value = [2, 4]</text>\n",
       "<text text-anchor=\"middle\" x=\"105\" y=\"-111.8\" font-family=\"Helvetica,sans-Serif\" font-size=\"14.00\">class = yes</text>\n",
       "</g>\n",
       "<!-- 1&#45;&gt;2 -->\n",
       "<g id=\"edge2\" class=\"edge\">\n",
       "<title>1&#45;&gt;2</title>\n",
       "<path fill=\"none\" stroke=\"black\" d=\"M144.84,-222.91C140.29,-214.2 135.45,-204.9 130.75,-195.89\"/>\n",
       "<polygon fill=\"black\" stroke=\"black\" points=\"133.85,-194.27 126.13,-187.02 127.65,-197.51 133.85,-194.27\"/>\n",
       "</g>\n",
       "<!-- 5 -->\n",
       "<g id=\"node6\" class=\"node\">\n",
       "<title>5</title>\n",
       "<polygon fill=\"none\" stroke=\"black\" points=\"275,-179.5 179,-179.5 179,-111.5 275,-111.5 275,-179.5\"/>\n",
       "<text text-anchor=\"middle\" x=\"227\" y=\"-164.3\" font-family=\"Helvetica,sans-Serif\" font-size=\"14.00\">entropy = 0.0</text>\n",
       "<text text-anchor=\"middle\" x=\"227\" y=\"-149.3\" font-family=\"Helvetica,sans-Serif\" font-size=\"14.00\">samples = 3</text>\n",
       "<text text-anchor=\"middle\" x=\"227\" y=\"-134.3\" font-family=\"Helvetica,sans-Serif\" font-size=\"14.00\">value = [3, 0]</text>\n",
       "<text text-anchor=\"middle\" x=\"227\" y=\"-119.3\" font-family=\"Helvetica,sans-Serif\" font-size=\"14.00\">class = no</text>\n",
       "</g>\n",
       "<!-- 1&#45;&gt;5 -->\n",
       "<g id=\"edge5\" class=\"edge\">\n",
       "<title>1&#45;&gt;5</title>\n",
       "<path fill=\"none\" stroke=\"black\" d=\"M187.16,-222.91C192.92,-211.87 199.16,-199.9 204.96,-188.77\"/>\n",
       "<polygon fill=\"black\" stroke=\"black\" points=\"208.19,-190.15 209.71,-179.67 201.98,-186.92 208.19,-190.15\"/>\n",
       "</g>\n",
       "<!-- 3 -->\n",
       "<g id=\"node4\" class=\"node\">\n",
       "<title>3</title>\n",
       "<polygon fill=\"none\" stroke=\"black\" points=\"96,-68 0,-68 0,0 96,0 96,-68\"/>\n",
       "<text text-anchor=\"middle\" x=\"48\" y=\"-52.8\" font-family=\"Helvetica,sans-Serif\" font-size=\"14.00\">entropy = 0.0</text>\n",
       "<text text-anchor=\"middle\" x=\"48\" y=\"-37.8\" font-family=\"Helvetica,sans-Serif\" font-size=\"14.00\">samples = 4</text>\n",
       "<text text-anchor=\"middle\" x=\"48\" y=\"-22.8\" font-family=\"Helvetica,sans-Serif\" font-size=\"14.00\">value = [0, 4]</text>\n",
       "<text text-anchor=\"middle\" x=\"48\" y=\"-7.8\" font-family=\"Helvetica,sans-Serif\" font-size=\"14.00\">class = yes</text>\n",
       "</g>\n",
       "<!-- 2&#45;&gt;3 -->\n",
       "<g id=\"edge3\" class=\"edge\">\n",
       "<title>2&#45;&gt;3</title>\n",
       "<path fill=\"none\" stroke=\"black\" d=\"M83.78,-103.73C79.26,-95.06 74.49,-85.9 69.96,-77.18\"/>\n",
       "<polygon fill=\"black\" stroke=\"black\" points=\"73.06,-75.55 65.33,-68.3 66.85,-78.79 73.06,-75.55\"/>\n",
       "</g>\n",
       "<!-- 4 -->\n",
       "<g id=\"node5\" class=\"node\">\n",
       "<title>4</title>\n",
       "<polygon fill=\"none\" stroke=\"black\" points=\"210,-68 114,-68 114,0 210,0 210,-68\"/>\n",
       "<text text-anchor=\"middle\" x=\"162\" y=\"-52.8\" font-family=\"Helvetica,sans-Serif\" font-size=\"14.00\">entropy = 0.0</text>\n",
       "<text text-anchor=\"middle\" x=\"162\" y=\"-37.8\" font-family=\"Helvetica,sans-Serif\" font-size=\"14.00\">samples = 2</text>\n",
       "<text text-anchor=\"middle\" x=\"162\" y=\"-22.8\" font-family=\"Helvetica,sans-Serif\" font-size=\"14.00\">value = [2, 0]</text>\n",
       "<text text-anchor=\"middle\" x=\"162\" y=\"-7.8\" font-family=\"Helvetica,sans-Serif\" font-size=\"14.00\">class = no</text>\n",
       "</g>\n",
       "<!-- 2&#45;&gt;4 -->\n",
       "<g id=\"edge4\" class=\"edge\">\n",
       "<title>2&#45;&gt;4</title>\n",
       "<path fill=\"none\" stroke=\"black\" d=\"M126.22,-103.73C130.74,-95.06 135.51,-85.9 140.04,-77.18\"/>\n",
       "<polygon fill=\"black\" stroke=\"black\" points=\"143.15,-78.79 144.67,-68.3 136.94,-75.55 143.15,-78.79\"/>\n",
       "</g>\n",
       "</g>\n",
       "</svg>\n"
      ],
      "text/plain": [
       "<graphviz.sources.Source at 0x7bae3e6f7df0>"
      ]
     },
     "execution_count": 14,
     "metadata": {},
     "output_type": "execute_result"
    }
   ],
   "source": [
    "graph = graphviz.Source(tree.export_graphviz(train_result, out_file=None,\n",
    "                                             feature_names=x_data.columns,\n",
    "                                             class_names=target_names))\n",
    "graph"
   ]
  },
  {
   "cell_type": "code",
   "execution_count": 15,
   "metadata": {
    "colab": {
     "base_uri": "https://localhost:8080/"
    },
    "executionInfo": {
     "elapsed": 295,
     "status": "ok",
     "timestamp": 1695145318453,
     "user": {
      "displayName": "이지현",
      "userId": "15457042676410261485"
     },
     "user_tz": -540
    },
    "id": "EqrhkbJ5h_ML",
    "outputId": "65ff7323-7e2f-497f-fd16-75cc27e5e86d"
   },
   "outputs": [
    {
     "name": "stdout",
     "output_type": "stream",
     "text": [
      "0     True\n",
      "1     True\n",
      "2     True\n",
      "3     True\n",
      "4     True\n",
      "5     True\n",
      "6     True\n",
      "7     True\n",
      "8     True\n",
      "9     True\n",
      "10    True\n",
      "11    True\n",
      "12    True\n",
      "13    True\n",
      "Name: play, dtype: bool\n"
     ]
    }
   ],
   "source": [
    "predict_result = decision_tree.predict(x_data)\n",
    "\n",
    "print(predict_result == y_data)"
   ]
  },
  {
   "cell_type": "code",
   "execution_count": 19,
   "metadata": {
    "colab": {
     "base_uri": "https://localhost:8080/"
    },
    "executionInfo": {
     "elapsed": 609,
     "status": "ok",
     "timestamp": 1695145575367,
     "user": {
      "displayName": "이지현",
      "userId": "15457042676410261485"
     },
     "user_tz": -540
    },
    "id": "TrL0fpndiNQ0",
    "outputId": "21d31d94-3200-41b8-fd38-0c55b1ae3dfe"
   },
   "outputs": [
    {
     "name": "stdout",
     "output_type": "stream",
     "text": [
      "     outlook  temp humidity  windy  day time  hours play\n",
      "0      sunny   hot     high  False  Mon   PM     14   no\n",
      "1      sunny   hot     high   True  Sun   AM      4   no\n",
      "2   overcast   hot     high  False  Thu   PM     20   no\n",
      "3      rainy  mild     high  False  Fri   PM     12  yes\n",
      "4      sunny  cool   normal  False  Sat   AM     10  yes\n",
      "5      rainy  cool   normal   True  Sun   AM     11   no\n",
      "6   overcast  cool   normal   True  Wed   PM     19  yes\n",
      "7   overcast  mild     high  False  Tue   AM      6   no\n",
      "8      sunny  cool   normal  False  Fri   PM     18  yes\n",
      "9      rainy  mild   normal  False  Sat   AM      9  yes\n",
      "10     sunny  mild   normal   True  Mon   PM     21   no\n",
      "11     rainy  mild     high   True  Tue   PM     20  yes\n",
      "12  overcast   hot   normal  False  Thu   AM      7  yes\n",
      "13     rainy  mild     high   True  Fri   PM     15  yes\n"
     ]
    }
   ],
   "source": [
    "#test3\n",
    "#시간을 PM/AM과 hours로만 받음(분/초는 생략)\n",
    "\n",
    "file_path = \"${PlayTennis3.csv 파일 경로}\"\n",
    "datas = pd.read_csv(file_path)\n",
    "print(datas)"
   ]
  },
  {
   "cell_type": "code",
   "execution_count": 20,
   "metadata": {
    "colab": {
     "base_uri": "https://localhost:8080/"
    },
    "executionInfo": {
     "elapsed": 306,
     "status": "ok",
     "timestamp": 1695145624992,
     "user": {
      "displayName": "이지현",
      "userId": "15457042676410261485"
     },
     "user_tz": -540
    },
    "id": "NnE0WvwFjC23",
    "outputId": "4dbcbb8f-a42e-4717-ea34-8f05b89498c1"
   },
   "outputs": [
    {
     "name": "stdout",
     "output_type": "stream",
     "text": [
      "target_names : ['no' 'yes']\n",
      "    outlook  temp  humidity  windy  day  time  hours  play\n",
      "0         2     1         0      0    1     1      7     0\n",
      "1         2     1         0      1    3     0      0     0\n",
      "2         0     1         0      0    4     1     11     0\n",
      "3         1     2         0      0    0     1      6     1\n",
      "4         2     0         1      0    2     0      4     1\n",
      "5         1     0         1      1    3     0      5     0\n",
      "6         0     0         1      1    6     1     10     1\n",
      "7         0     2         0      0    5     0      1     0\n",
      "8         2     0         1      0    0     1      9     1\n",
      "9         1     2         1      0    2     0      3     1\n",
      "10        2     2         1      1    1     1     12     0\n",
      "11        1     2         0      1    5     1     11     1\n",
      "12        0     1         1      0    4     0      2     1\n",
      "13        1     2         0      1    0     1      8     1\n"
     ]
    }
   ],
   "source": [
    "label_encoder = LabelEncoder()\n",
    "\n",
    "target_names = label_encoder.fit(datas['play']).classes_\n",
    "print(\"target_names : {}\".format(target_names))\n",
    "\n",
    "datas['outlook'] = label_encoder.fit_transform(datas['outlook'])\n",
    "datas['temp'] = label_encoder.fit_transform(datas['temp'])\n",
    "datas['humidity'] = label_encoder.fit_transform(datas['humidity'])\n",
    "datas['windy'] = label_encoder.fit_transform(datas['windy'])\n",
    "datas['day'] = label_encoder.fit_transform(datas['day'])\n",
    "datas['time'] = label_encoder.fit_transform(datas['time'])\n",
    "datas['hours'] = label_encoder.fit_transform(datas['hours'])\n",
    "datas['play'] = label_encoder.fit_transform(datas['play'])\n",
    "\n",
    "print(datas)"
   ]
  },
  {
   "cell_type": "code",
   "execution_count": 21,
   "metadata": {
    "colab": {
     "base_uri": "https://localhost:8080/"
    },
    "executionInfo": {
     "elapsed": 294,
     "status": "ok",
     "timestamp": 1695145636125,
     "user": {
      "displayName": "이지현",
      "userId": "15457042676410261485"
     },
     "user_tz": -540
    },
    "id": "oSff241cjYFA",
    "outputId": "55c0a116-180b-4e06-93ec-a49150e732aa"
   },
   "outputs": [
    {
     "name": "stdout",
     "output_type": "stream",
     "text": [
      "    outlook  temp  humidity  windy  day  time  hours\n",
      "0         2     1         0      0    1     1      7\n",
      "1         2     1         0      1    3     0      0\n",
      "2         0     1         0      0    4     1     11\n",
      "3         1     2         0      0    0     1      6\n",
      "4         2     0         1      0    2     0      4\n",
      "5         1     0         1      1    3     0      5\n",
      "6         0     0         1      1    6     1     10\n",
      "7         0     2         0      0    5     0      1\n",
      "8         2     0         1      0    0     1      9\n",
      "9         1     2         1      0    2     0      3\n",
      "10        2     2         1      1    1     1     12\n",
      "11        1     2         0      1    5     1     11\n",
      "12        0     1         1      0    4     0      2\n",
      "13        1     2         0      1    0     1      8\n",
      "\n",
      "0     0\n",
      "1     0\n",
      "2     0\n",
      "3     1\n",
      "4     1\n",
      "5     0\n",
      "6     1\n",
      "7     0\n",
      "8     1\n",
      "9     1\n",
      "10    0\n",
      "11    1\n",
      "12    1\n",
      "13    1\n",
      "Name: play, dtype: int64\n"
     ]
    }
   ],
   "source": [
    "x_data, y_data = datas.drop(['play'], axis=1), datas['play']\n",
    "\n",
    "print(x_data)\n",
    "print()\n",
    "print(y_data)"
   ]
  },
  {
   "cell_type": "code",
   "execution_count": 22,
   "metadata": {
    "executionInfo": {
     "elapsed": 3,
     "status": "ok",
     "timestamp": 1695145648939,
     "user": {
      "displayName": "이지현",
      "userId": "15457042676410261485"
     },
     "user_tz": -540
    },
    "id": "-JvMhvzfjazj"
   },
   "outputs": [],
   "source": [
    "decision_tree = tree.DecisionTreeClassifier(criterion = 'entropy')\n",
    "train_result = decision_tree.fit(x_data, y_data)"
   ]
  },
  {
   "cell_type": "code",
   "execution_count": 23,
   "metadata": {
    "colab": {
     "base_uri": "https://localhost:8080/",
     "height": 756
    },
    "executionInfo": {
     "elapsed": 309,
     "status": "ok",
     "timestamp": 1695145657465,
     "user": {
      "displayName": "이지현",
      "userId": "15457042676410261485"
     },
     "user_tz": -540
    },
    "id": "QEoyXUj_jeC5",
    "outputId": "defded58-3dd4-4111-bfd6-0d8ccb067744"
   },
   "outputs": [
    {
     "data": {
      "image/svg+xml": [
       "<?xml version=\"1.0\" encoding=\"UTF-8\" standalone=\"no\"?>\n",
       "<!DOCTYPE svg PUBLIC \"-//W3C//DTD SVG 1.1//EN\"\n",
       " \"http://www.w3.org/Graphics/SVG/1.1/DTD/svg11.dtd\">\n",
       "<!-- Generated by graphviz version 2.43.0 (0)\n",
       " -->\n",
       "<!-- Title: Tree Pages: 1 -->\n",
       "<svg width=\"405pt\" height=\"552pt\"\n",
       " viewBox=\"0.00 0.00 405.00 552.00\" xmlns=\"http://www.w3.org/2000/svg\" xmlns:xlink=\"http://www.w3.org/1999/xlink\">\n",
       "<g id=\"graph0\" class=\"graph\" transform=\"scale(1 1) rotate(0) translate(4 548)\">\n",
       "<title>Tree</title>\n",
       "<polygon fill=\"white\" stroke=\"transparent\" points=\"-4,4 -4,-548 401,-548 401,4 -4,4\"/>\n",
       "<!-- 0 -->\n",
       "<g id=\"node1\" class=\"node\">\n",
       "<title>0</title>\n",
       "<polygon fill=\"none\" stroke=\"black\" points=\"164.5,-544 53.5,-544 53.5,-461 164.5,-461 164.5,-544\"/>\n",
       "<text text-anchor=\"middle\" x=\"109\" y=\"-528.8\" font-family=\"Helvetica,sans-Serif\" font-size=\"14.00\">day &lt;= 0.5</text>\n",
       "<text text-anchor=\"middle\" x=\"109\" y=\"-513.8\" font-family=\"Helvetica,sans-Serif\" font-size=\"14.00\">entropy = 0.985</text>\n",
       "<text text-anchor=\"middle\" x=\"109\" y=\"-498.8\" font-family=\"Helvetica,sans-Serif\" font-size=\"14.00\">samples = 14</text>\n",
       "<text text-anchor=\"middle\" x=\"109\" y=\"-483.8\" font-family=\"Helvetica,sans-Serif\" font-size=\"14.00\">value = [6, 8]</text>\n",
       "<text text-anchor=\"middle\" x=\"109\" y=\"-468.8\" font-family=\"Helvetica,sans-Serif\" font-size=\"14.00\">class = yes</text>\n",
       "</g>\n",
       "<!-- 1 -->\n",
       "<g id=\"node2\" class=\"node\">\n",
       "<title>1</title>\n",
       "<polygon fill=\"none\" stroke=\"black\" points=\"96,-417.5 0,-417.5 0,-349.5 96,-349.5 96,-417.5\"/>\n",
       "<text text-anchor=\"middle\" x=\"48\" y=\"-402.3\" font-family=\"Helvetica,sans-Serif\" font-size=\"14.00\">entropy = 0.0</text>\n",
       "<text text-anchor=\"middle\" x=\"48\" y=\"-387.3\" font-family=\"Helvetica,sans-Serif\" font-size=\"14.00\">samples = 3</text>\n",
       "<text text-anchor=\"middle\" x=\"48\" y=\"-372.3\" font-family=\"Helvetica,sans-Serif\" font-size=\"14.00\">value = [0, 3]</text>\n",
       "<text text-anchor=\"middle\" x=\"48\" y=\"-357.3\" font-family=\"Helvetica,sans-Serif\" font-size=\"14.00\">class = yes</text>\n",
       "</g>\n",
       "<!-- 0&#45;&gt;1 -->\n",
       "<g id=\"edge1\" class=\"edge\">\n",
       "<title>0&#45;&gt;1</title>\n",
       "<path fill=\"none\" stroke=\"black\" d=\"M87.84,-460.91C82.08,-449.87 75.84,-437.9 70.04,-426.77\"/>\n",
       "<polygon fill=\"black\" stroke=\"black\" points=\"73.02,-424.92 65.29,-417.67 66.81,-428.15 73.02,-424.92\"/>\n",
       "<text text-anchor=\"middle\" x=\"57.79\" y=\"-437.81\" font-family=\"Helvetica,sans-Serif\" font-size=\"14.00\">True</text>\n",
       "</g>\n",
       "<!-- 2 -->\n",
       "<g id=\"node3\" class=\"node\">\n",
       "<title>2</title>\n",
       "<polygon fill=\"none\" stroke=\"black\" points=\"225.5,-425 114.5,-425 114.5,-342 225.5,-342 225.5,-425\"/>\n",
       "<text text-anchor=\"middle\" x=\"170\" y=\"-409.8\" font-family=\"Helvetica,sans-Serif\" font-size=\"14.00\">hours &lt;= 1.5</text>\n",
       "<text text-anchor=\"middle\" x=\"170\" y=\"-394.8\" font-family=\"Helvetica,sans-Serif\" font-size=\"14.00\">entropy = 0.994</text>\n",
       "<text text-anchor=\"middle\" x=\"170\" y=\"-379.8\" font-family=\"Helvetica,sans-Serif\" font-size=\"14.00\">samples = 11</text>\n",
       "<text text-anchor=\"middle\" x=\"170\" y=\"-364.8\" font-family=\"Helvetica,sans-Serif\" font-size=\"14.00\">value = [6, 5]</text>\n",
       "<text text-anchor=\"middle\" x=\"170\" y=\"-349.8\" font-family=\"Helvetica,sans-Serif\" font-size=\"14.00\">class = no</text>\n",
       "</g>\n",
       "<!-- 0&#45;&gt;2 -->\n",
       "<g id=\"edge2\" class=\"edge\">\n",
       "<title>0&#45;&gt;2</title>\n",
       "<path fill=\"none\" stroke=\"black\" d=\"M130.16,-460.91C134.71,-452.2 139.55,-442.9 144.25,-433.89\"/>\n",
       "<polygon fill=\"black\" stroke=\"black\" points=\"147.35,-435.51 148.87,-425.02 141.15,-432.27 147.35,-435.51\"/>\n",
       "<text text-anchor=\"middle\" x=\"156.38\" y=\"-445.17\" font-family=\"Helvetica,sans-Serif\" font-size=\"14.00\">False</text>\n",
       "</g>\n",
       "<!-- 3 -->\n",
       "<g id=\"node4\" class=\"node\">\n",
       "<title>3</title>\n",
       "<polygon fill=\"none\" stroke=\"black\" points=\"157,-298.5 61,-298.5 61,-230.5 157,-230.5 157,-298.5\"/>\n",
       "<text text-anchor=\"middle\" x=\"109\" y=\"-283.3\" font-family=\"Helvetica,sans-Serif\" font-size=\"14.00\">entropy = 0.0</text>\n",
       "<text text-anchor=\"middle\" x=\"109\" y=\"-268.3\" font-family=\"Helvetica,sans-Serif\" font-size=\"14.00\">samples = 2</text>\n",
       "<text text-anchor=\"middle\" x=\"109\" y=\"-253.3\" font-family=\"Helvetica,sans-Serif\" font-size=\"14.00\">value = [2, 0]</text>\n",
       "<text text-anchor=\"middle\" x=\"109\" y=\"-238.3\" font-family=\"Helvetica,sans-Serif\" font-size=\"14.00\">class = no</text>\n",
       "</g>\n",
       "<!-- 2&#45;&gt;3 -->\n",
       "<g id=\"edge3\" class=\"edge\">\n",
       "<title>2&#45;&gt;3</title>\n",
       "<path fill=\"none\" stroke=\"black\" d=\"M148.84,-341.91C143.08,-330.87 136.84,-318.9 131.04,-307.77\"/>\n",
       "<polygon fill=\"black\" stroke=\"black\" points=\"134.02,-305.92 126.29,-298.67 127.81,-309.15 134.02,-305.92\"/>\n",
       "</g>\n",
       "<!-- 4 -->\n",
       "<g id=\"node5\" class=\"node\">\n",
       "<title>4</title>\n",
       "<polygon fill=\"none\" stroke=\"black\" points=\"286.5,-306 175.5,-306 175.5,-223 286.5,-223 286.5,-306\"/>\n",
       "<text text-anchor=\"middle\" x=\"231\" y=\"-290.8\" font-family=\"Helvetica,sans-Serif\" font-size=\"14.00\">hours &lt;= 4.5</text>\n",
       "<text text-anchor=\"middle\" x=\"231\" y=\"-275.8\" font-family=\"Helvetica,sans-Serif\" font-size=\"14.00\">entropy = 0.991</text>\n",
       "<text text-anchor=\"middle\" x=\"231\" y=\"-260.8\" font-family=\"Helvetica,sans-Serif\" font-size=\"14.00\">samples = 9</text>\n",
       "<text text-anchor=\"middle\" x=\"231\" y=\"-245.8\" font-family=\"Helvetica,sans-Serif\" font-size=\"14.00\">value = [4, 5]</text>\n",
       "<text text-anchor=\"middle\" x=\"231\" y=\"-230.8\" font-family=\"Helvetica,sans-Serif\" font-size=\"14.00\">class = yes</text>\n",
       "</g>\n",
       "<!-- 2&#45;&gt;4 -->\n",
       "<g id=\"edge4\" class=\"edge\">\n",
       "<title>2&#45;&gt;4</title>\n",
       "<path fill=\"none\" stroke=\"black\" d=\"M191.16,-341.91C195.71,-333.2 200.55,-323.9 205.25,-314.89\"/>\n",
       "<polygon fill=\"black\" stroke=\"black\" points=\"208.35,-316.51 209.87,-306.02 202.15,-313.27 208.35,-316.51\"/>\n",
       "</g>\n",
       "<!-- 5 -->\n",
       "<g id=\"node6\" class=\"node\">\n",
       "<title>5</title>\n",
       "<polygon fill=\"none\" stroke=\"black\" points=\"218,-179.5 122,-179.5 122,-111.5 218,-111.5 218,-179.5\"/>\n",
       "<text text-anchor=\"middle\" x=\"170\" y=\"-164.3\" font-family=\"Helvetica,sans-Serif\" font-size=\"14.00\">entropy = 0.0</text>\n",
       "<text text-anchor=\"middle\" x=\"170\" y=\"-149.3\" font-family=\"Helvetica,sans-Serif\" font-size=\"14.00\">samples = 3</text>\n",
       "<text text-anchor=\"middle\" x=\"170\" y=\"-134.3\" font-family=\"Helvetica,sans-Serif\" font-size=\"14.00\">value = [0, 3]</text>\n",
       "<text text-anchor=\"middle\" x=\"170\" y=\"-119.3\" font-family=\"Helvetica,sans-Serif\" font-size=\"14.00\">class = yes</text>\n",
       "</g>\n",
       "<!-- 4&#45;&gt;5 -->\n",
       "<g id=\"edge5\" class=\"edge\">\n",
       "<title>4&#45;&gt;5</title>\n",
       "<path fill=\"none\" stroke=\"black\" d=\"M209.84,-222.91C204.08,-211.87 197.84,-199.9 192.04,-188.77\"/>\n",
       "<polygon fill=\"black\" stroke=\"black\" points=\"195.02,-186.92 187.29,-179.67 188.81,-190.15 195.02,-186.92\"/>\n",
       "</g>\n",
       "<!-- 6 -->\n",
       "<g id=\"node7\" class=\"node\">\n",
       "<title>6</title>\n",
       "<polygon fill=\"none\" stroke=\"black\" points=\"347.5,-187 236.5,-187 236.5,-104 347.5,-104 347.5,-187\"/>\n",
       "<text text-anchor=\"middle\" x=\"292\" y=\"-171.8\" font-family=\"Helvetica,sans-Serif\" font-size=\"14.00\">day &lt;= 4.5</text>\n",
       "<text text-anchor=\"middle\" x=\"292\" y=\"-156.8\" font-family=\"Helvetica,sans-Serif\" font-size=\"14.00\">entropy = 0.918</text>\n",
       "<text text-anchor=\"middle\" x=\"292\" y=\"-141.8\" font-family=\"Helvetica,sans-Serif\" font-size=\"14.00\">samples = 6</text>\n",
       "<text text-anchor=\"middle\" x=\"292\" y=\"-126.8\" font-family=\"Helvetica,sans-Serif\" font-size=\"14.00\">value = [4, 2]</text>\n",
       "<text text-anchor=\"middle\" x=\"292\" y=\"-111.8\" font-family=\"Helvetica,sans-Serif\" font-size=\"14.00\">class = no</text>\n",
       "</g>\n",
       "<!-- 4&#45;&gt;6 -->\n",
       "<g id=\"edge6\" class=\"edge\">\n",
       "<title>4&#45;&gt;6</title>\n",
       "<path fill=\"none\" stroke=\"black\" d=\"M252.16,-222.91C256.71,-214.2 261.55,-204.9 266.25,-195.89\"/>\n",
       "<polygon fill=\"black\" stroke=\"black\" points=\"269.35,-197.51 270.87,-187.02 263.15,-194.27 269.35,-197.51\"/>\n",
       "</g>\n",
       "<!-- 7 -->\n",
       "<g id=\"node8\" class=\"node\">\n",
       "<title>7</title>\n",
       "<polygon fill=\"none\" stroke=\"black\" points=\"283,-68 187,-68 187,0 283,0 283,-68\"/>\n",
       "<text text-anchor=\"middle\" x=\"235\" y=\"-52.8\" font-family=\"Helvetica,sans-Serif\" font-size=\"14.00\">entropy = 0.0</text>\n",
       "<text text-anchor=\"middle\" x=\"235\" y=\"-37.8\" font-family=\"Helvetica,sans-Serif\" font-size=\"14.00\">samples = 4</text>\n",
       "<text text-anchor=\"middle\" x=\"235\" y=\"-22.8\" font-family=\"Helvetica,sans-Serif\" font-size=\"14.00\">value = [4, 0]</text>\n",
       "<text text-anchor=\"middle\" x=\"235\" y=\"-7.8\" font-family=\"Helvetica,sans-Serif\" font-size=\"14.00\">class = no</text>\n",
       "</g>\n",
       "<!-- 6&#45;&gt;7 -->\n",
       "<g id=\"edge7\" class=\"edge\">\n",
       "<title>6&#45;&gt;7</title>\n",
       "<path fill=\"none\" stroke=\"black\" d=\"M270.78,-103.73C266.26,-95.06 261.49,-85.9 256.96,-77.18\"/>\n",
       "<polygon fill=\"black\" stroke=\"black\" points=\"260.06,-75.55 252.33,-68.3 253.85,-78.79 260.06,-75.55\"/>\n",
       "</g>\n",
       "<!-- 8 -->\n",
       "<g id=\"node9\" class=\"node\">\n",
       "<title>8</title>\n",
       "<polygon fill=\"none\" stroke=\"black\" points=\"397,-68 301,-68 301,0 397,0 397,-68\"/>\n",
       "<text text-anchor=\"middle\" x=\"349\" y=\"-52.8\" font-family=\"Helvetica,sans-Serif\" font-size=\"14.00\">entropy = 0.0</text>\n",
       "<text text-anchor=\"middle\" x=\"349\" y=\"-37.8\" font-family=\"Helvetica,sans-Serif\" font-size=\"14.00\">samples = 2</text>\n",
       "<text text-anchor=\"middle\" x=\"349\" y=\"-22.8\" font-family=\"Helvetica,sans-Serif\" font-size=\"14.00\">value = [0, 2]</text>\n",
       "<text text-anchor=\"middle\" x=\"349\" y=\"-7.8\" font-family=\"Helvetica,sans-Serif\" font-size=\"14.00\">class = yes</text>\n",
       "</g>\n",
       "<!-- 6&#45;&gt;8 -->\n",
       "<g id=\"edge8\" class=\"edge\">\n",
       "<title>6&#45;&gt;8</title>\n",
       "<path fill=\"none\" stroke=\"black\" d=\"M313.22,-103.73C317.74,-95.06 322.51,-85.9 327.04,-77.18\"/>\n",
       "<polygon fill=\"black\" stroke=\"black\" points=\"330.15,-78.79 331.67,-68.3 323.94,-75.55 330.15,-78.79\"/>\n",
       "</g>\n",
       "</g>\n",
       "</svg>\n"
      ],
      "text/plain": [
       "<graphviz.sources.Source at 0x7bae75900ac0>"
      ]
     },
     "execution_count": 23,
     "metadata": {},
     "output_type": "execute_result"
    }
   ],
   "source": [
    "graph = graphviz.Source(tree.export_graphviz(train_result, out_file=None,\n",
    "                                             feature_names=x_data.columns,\n",
    "                                             class_names=target_names))\n",
    "graph"
   ]
  },
  {
   "cell_type": "code",
   "execution_count": 24,
   "metadata": {
    "colab": {
     "base_uri": "https://localhost:8080/"
    },
    "executionInfo": {
     "elapsed": 298,
     "status": "ok",
     "timestamp": 1695145678070,
     "user": {
      "displayName": "이지현",
      "userId": "15457042676410261485"
     },
     "user_tz": -540
    },
    "id": "mgZgLh3UjgBR",
    "outputId": "e05f2adc-c995-4e3a-bef0-447bc2f5768a"
   },
   "outputs": [
    {
     "name": "stdout",
     "output_type": "stream",
     "text": [
      "0     True\n",
      "1     True\n",
      "2     True\n",
      "3     True\n",
      "4     True\n",
      "5     True\n",
      "6     True\n",
      "7     True\n",
      "8     True\n",
      "9     True\n",
      "10    True\n",
      "11    True\n",
      "12    True\n",
      "13    True\n",
      "Name: play, dtype: bool\n"
     ]
    }
   ],
   "source": [
    "predict_result = decision_tree.predict(x_data)\n",
    "\n",
    "print(predict_result == y_data)"
   ]
  },
  {
   "cell_type": "code",
   "execution_count": 25,
   "metadata": {
    "colab": {
     "base_uri": "https://localhost:8080/"
    },
    "executionInfo": {
     "elapsed": 918,
     "status": "ok",
     "timestamp": 1695146212768,
     "user": {
      "displayName": "이지현",
      "userId": "15457042676410261485"
     },
     "user_tz": -540
    },
    "id": "8FOeLcm8jlH5",
    "outputId": "5d7fbf0c-d017-4796-ae04-7c06efc15670"
   },
   "outputs": [
    {
     "name": "stdout",
     "output_type": "stream",
     "text": [
      "     outlook  temp humidity  windy     day  time play\n",
      "0      sunny   hot     high  False  Mon-PM    14   no\n",
      "1      sunny   hot   normal   True  Sun-PM    16   no\n",
      "2   overcast   hot     high   True  Thu-AM     4   no\n",
      "3      rainy  mild   normal  False  Fri-PM    12  yes\n",
      "4      rainy  cool     high  False  Sat-AM    10  yes\n",
      "5      rainy  cool     high  False  Sun-AM    11   no\n",
      "6   overcast  cool   normal   True  Wed-PM    19  yes\n",
      "7      sunny  mild     high   True  Tue-PM    18   no\n",
      "8      sunny  cool   normal  False  Fri-AM     7  yes\n",
      "9      rainy  mild   normal  False  Sat-AM     9  yes\n",
      "10     sunny  mild   normal   True  Mon-PM    21  yes\n",
      "11  overcast  mild     high   True  Tue-PM    20  yes\n",
      "12  overcast   hot   normal  False  Thu-AM     6   no\n",
      "13     rainy  mild     high   True  Fri-PM    15   no\n"
     ]
    }
   ],
   "source": [
    "#test4\n",
    "#요일에 PM/AM까지 붙여서 분류\n",
    "\n",
    "file_path = \"${PlayTennis4.csv 파일 경로}\"\n",
    "datas = pd.read_csv(file_path)\n",
    "print(datas)"
   ]
  },
  {
   "cell_type": "code",
   "execution_count": 26,
   "metadata": {
    "colab": {
     "base_uri": "https://localhost:8080/"
    },
    "executionInfo": {
     "elapsed": 302,
     "status": "ok",
     "timestamp": 1695146241745,
     "user": {
      "displayName": "이지현",
      "userId": "15457042676410261485"
     },
     "user_tz": -540
    },
    "id": "NOD4zFjulncX",
    "outputId": "1ff5ee61-c5dc-4195-bb7c-6b835d770d71"
   },
   "outputs": [
    {
     "name": "stdout",
     "output_type": "stream",
     "text": [
      "target_names : ['no' 'yes']\n",
      "    outlook  temp  humidity  windy  day  time  play\n",
      "0         2     1         0      0    2     7     0\n",
      "1         2     1         1      1    5     9     0\n",
      "2         0     1         0      1    6     0     0\n",
      "3         1     2         1      0    1     6     1\n",
      "4         1     0         0      0    3     4     1\n",
      "5         1     0         0      0    4     5     0\n",
      "6         0     0         1      1    8    11     1\n",
      "7         2     2         0      1    7    10     0\n",
      "8         2     0         1      0    0     2     1\n",
      "9         1     2         1      0    3     3     1\n",
      "10        2     2         1      1    2    13     1\n",
      "11        0     2         0      1    7    12     1\n",
      "12        0     1         1      0    6     1     0\n",
      "13        1     2         0      1    1     8     0\n"
     ]
    }
   ],
   "source": [
    "label_encoder = LabelEncoder()\n",
    "\n",
    "target_names = label_encoder.fit(datas['play']).classes_\n",
    "print(\"target_names : {}\".format(target_names))\n",
    "\n",
    "datas['outlook'] = label_encoder.fit_transform(datas['outlook'])\n",
    "datas['temp'] = label_encoder.fit_transform(datas['temp'])\n",
    "datas['humidity'] = label_encoder.fit_transform(datas['humidity'])\n",
    "datas['windy'] = label_encoder.fit_transform(datas['windy'])\n",
    "datas['day'] = label_encoder.fit_transform(datas['day'])\n",
    "datas['time'] = label_encoder.fit_transform(datas['time'])\n",
    "datas['play'] = label_encoder.fit_transform(datas['play'])\n",
    "\n",
    "print(datas)"
   ]
  },
  {
   "cell_type": "code",
   "execution_count": 27,
   "metadata": {
    "colab": {
     "base_uri": "https://localhost:8080/"
    },
    "executionInfo": {
     "elapsed": 281,
     "status": "ok",
     "timestamp": 1695146249983,
     "user": {
      "displayName": "이지현",
      "userId": "15457042676410261485"
     },
     "user_tz": -540
    },
    "id": "Ekna7UXWluq4",
    "outputId": "63737d72-6c84-408c-8a7e-de461be50fc9"
   },
   "outputs": [
    {
     "name": "stdout",
     "output_type": "stream",
     "text": [
      "    outlook  temp  humidity  windy  day  time\n",
      "0         2     1         0      0    2     7\n",
      "1         2     1         1      1    5     9\n",
      "2         0     1         0      1    6     0\n",
      "3         1     2         1      0    1     6\n",
      "4         1     0         0      0    3     4\n",
      "5         1     0         0      0    4     5\n",
      "6         0     0         1      1    8    11\n",
      "7         2     2         0      1    7    10\n",
      "8         2     0         1      0    0     2\n",
      "9         1     2         1      0    3     3\n",
      "10        2     2         1      1    2    13\n",
      "11        0     2         0      1    7    12\n",
      "12        0     1         1      0    6     1\n",
      "13        1     2         0      1    1     8\n",
      "\n",
      "0     0\n",
      "1     0\n",
      "2     0\n",
      "3     1\n",
      "4     1\n",
      "5     0\n",
      "6     1\n",
      "7     0\n",
      "8     1\n",
      "9     1\n",
      "10    1\n",
      "11    1\n",
      "12    0\n",
      "13    0\n",
      "Name: play, dtype: int64\n"
     ]
    }
   ],
   "source": [
    "x_data, y_data = datas.drop(['play'], axis=1), datas['play']\n",
    "\n",
    "print(x_data)\n",
    "print()\n",
    "print(y_data)"
   ]
  },
  {
   "cell_type": "code",
   "execution_count": 28,
   "metadata": {
    "executionInfo": {
     "elapsed": 7,
     "status": "ok",
     "timestamp": 1695146259016,
     "user": {
      "displayName": "이지현",
      "userId": "15457042676410261485"
     },
     "user_tz": -540
    },
    "id": "o60ifpM1lwrp"
   },
   "outputs": [],
   "source": [
    "decision_tree = tree.DecisionTreeClassifier(criterion = 'entropy')\n",
    "train_result = decision_tree.fit(x_data, y_data)"
   ]
  },
  {
   "cell_type": "code",
   "execution_count": 29,
   "metadata": {
    "colab": {
     "base_uri": "https://localhost:8080/",
     "height": 597
    },
    "executionInfo": {
     "elapsed": 18,
     "status": "ok",
     "timestamp": 1695146265224,
     "user": {
      "displayName": "이지현",
      "userId": "15457042676410261485"
     },
     "user_tz": -540
    },
    "id": "jUD__iOqly9g",
    "outputId": "96e006a2-6078-421f-8545-f46b8ebcd119"
   },
   "outputs": [
    {
     "data": {
      "image/svg+xml": [
       "<?xml version=\"1.0\" encoding=\"UTF-8\" standalone=\"no\"?>\n",
       "<!DOCTYPE svg PUBLIC \"-//W3C//DTD SVG 1.1//EN\"\n",
       " \"http://www.w3.org/Graphics/SVG/1.1/DTD/svg11.dtd\">\n",
       "<!-- Generated by graphviz version 2.43.0 (0)\n",
       " -->\n",
       "<!-- Title: Tree Pages: 1 -->\n",
       "<svg width=\"344pt\" height=\"433pt\"\n",
       " viewBox=\"0.00 0.00 344.00 433.00\" xmlns=\"http://www.w3.org/2000/svg\" xmlns:xlink=\"http://www.w3.org/1999/xlink\">\n",
       "<g id=\"graph0\" class=\"graph\" transform=\"scale(1 1) rotate(0) translate(4 429)\">\n",
       "<title>Tree</title>\n",
       "<polygon fill=\"white\" stroke=\"transparent\" points=\"-4,4 -4,-429 340,-429 340,4 -4,4\"/>\n",
       "<!-- 0 -->\n",
       "<g id=\"node1\" class=\"node\">\n",
       "<title>0</title>\n",
       "<polygon fill=\"none\" stroke=\"black\" points=\"276,-425 178,-425 178,-342 276,-342 276,-425\"/>\n",
       "<text text-anchor=\"middle\" x=\"227\" y=\"-409.8\" font-family=\"Helvetica,sans-Serif\" font-size=\"14.00\">time &lt;= 10.5</text>\n",
       "<text text-anchor=\"middle\" x=\"227\" y=\"-394.8\" font-family=\"Helvetica,sans-Serif\" font-size=\"14.00\">entropy = 1.0</text>\n",
       "<text text-anchor=\"middle\" x=\"227\" y=\"-379.8\" font-family=\"Helvetica,sans-Serif\" font-size=\"14.00\">samples = 14</text>\n",
       "<text text-anchor=\"middle\" x=\"227\" y=\"-364.8\" font-family=\"Helvetica,sans-Serif\" font-size=\"14.00\">value = [7, 7]</text>\n",
       "<text text-anchor=\"middle\" x=\"227\" y=\"-349.8\" font-family=\"Helvetica,sans-Serif\" font-size=\"14.00\">class = no</text>\n",
       "</g>\n",
       "<!-- 1 -->\n",
       "<g id=\"node2\" class=\"node\">\n",
       "<title>1</title>\n",
       "<polygon fill=\"none\" stroke=\"black\" points=\"221.5,-306 110.5,-306 110.5,-223 221.5,-223 221.5,-306\"/>\n",
       "<text text-anchor=\"middle\" x=\"166\" y=\"-290.8\" font-family=\"Helvetica,sans-Serif\" font-size=\"14.00\">day &lt;= 3.5</text>\n",
       "<text text-anchor=\"middle\" x=\"166\" y=\"-275.8\" font-family=\"Helvetica,sans-Serif\" font-size=\"14.00\">entropy = 0.946</text>\n",
       "<text text-anchor=\"middle\" x=\"166\" y=\"-260.8\" font-family=\"Helvetica,sans-Serif\" font-size=\"14.00\">samples = 11</text>\n",
       "<text text-anchor=\"middle\" x=\"166\" y=\"-245.8\" font-family=\"Helvetica,sans-Serif\" font-size=\"14.00\">value = [7, 4]</text>\n",
       "<text text-anchor=\"middle\" x=\"166\" y=\"-230.8\" font-family=\"Helvetica,sans-Serif\" font-size=\"14.00\">class = no</text>\n",
       "</g>\n",
       "<!-- 0&#45;&gt;1 -->\n",
       "<g id=\"edge1\" class=\"edge\">\n",
       "<title>0&#45;&gt;1</title>\n",
       "<path fill=\"none\" stroke=\"black\" d=\"M205.84,-341.91C201.29,-333.2 196.45,-323.9 191.75,-314.89\"/>\n",
       "<polygon fill=\"black\" stroke=\"black\" points=\"194.85,-313.27 187.13,-306.02 188.65,-316.51 194.85,-313.27\"/>\n",
       "<text text-anchor=\"middle\" x=\"179.62\" y=\"-326.17\" font-family=\"Helvetica,sans-Serif\" font-size=\"14.00\">True</text>\n",
       "</g>\n",
       "<!-- 6 -->\n",
       "<g id=\"node7\" class=\"node\">\n",
       "<title>6</title>\n",
       "<polygon fill=\"none\" stroke=\"black\" points=\"336,-298.5 240,-298.5 240,-230.5 336,-230.5 336,-298.5\"/>\n",
       "<text text-anchor=\"middle\" x=\"288\" y=\"-283.3\" font-family=\"Helvetica,sans-Serif\" font-size=\"14.00\">entropy = 0.0</text>\n",
       "<text text-anchor=\"middle\" x=\"288\" y=\"-268.3\" font-family=\"Helvetica,sans-Serif\" font-size=\"14.00\">samples = 3</text>\n",
       "<text text-anchor=\"middle\" x=\"288\" y=\"-253.3\" font-family=\"Helvetica,sans-Serif\" font-size=\"14.00\">value = [0, 3]</text>\n",
       "<text text-anchor=\"middle\" x=\"288\" y=\"-238.3\" font-family=\"Helvetica,sans-Serif\" font-size=\"14.00\">class = yes</text>\n",
       "</g>\n",
       "<!-- 0&#45;&gt;6 -->\n",
       "<g id=\"edge6\" class=\"edge\">\n",
       "<title>0&#45;&gt;6</title>\n",
       "<path fill=\"none\" stroke=\"black\" d=\"M248.16,-341.91C253.92,-330.87 260.16,-318.9 265.96,-307.77\"/>\n",
       "<polygon fill=\"black\" stroke=\"black\" points=\"269.19,-309.15 270.71,-298.67 262.98,-305.92 269.19,-309.15\"/>\n",
       "<text text-anchor=\"middle\" x=\"278.21\" y=\"-318.81\" font-family=\"Helvetica,sans-Serif\" font-size=\"14.00\">False</text>\n",
       "</g>\n",
       "<!-- 2 -->\n",
       "<g id=\"node3\" class=\"node\">\n",
       "<title>2</title>\n",
       "<polygon fill=\"none\" stroke=\"black\" points=\"160.5,-187 49.5,-187 49.5,-104 160.5,-104 160.5,-187\"/>\n",
       "<text text-anchor=\"middle\" x=\"105\" y=\"-171.8\" font-family=\"Helvetica,sans-Serif\" font-size=\"14.00\">time &lt;= 6.5</text>\n",
       "<text text-anchor=\"middle\" x=\"105\" y=\"-156.8\" font-family=\"Helvetica,sans-Serif\" font-size=\"14.00\">entropy = 0.918</text>\n",
       "<text text-anchor=\"middle\" x=\"105\" y=\"-141.8\" font-family=\"Helvetica,sans-Serif\" font-size=\"14.00\">samples = 6</text>\n",
       "<text text-anchor=\"middle\" x=\"105\" y=\"-126.8\" font-family=\"Helvetica,sans-Serif\" font-size=\"14.00\">value = [2, 4]</text>\n",
       "<text text-anchor=\"middle\" x=\"105\" y=\"-111.8\" font-family=\"Helvetica,sans-Serif\" font-size=\"14.00\">class = yes</text>\n",
       "</g>\n",
       "<!-- 1&#45;&gt;2 -->\n",
       "<g id=\"edge2\" class=\"edge\">\n",
       "<title>1&#45;&gt;2</title>\n",
       "<path fill=\"none\" stroke=\"black\" d=\"M144.84,-222.91C140.29,-214.2 135.45,-204.9 130.75,-195.89\"/>\n",
       "<polygon fill=\"black\" stroke=\"black\" points=\"133.85,-194.27 126.13,-187.02 127.65,-197.51 133.85,-194.27\"/>\n",
       "</g>\n",
       "<!-- 5 -->\n",
       "<g id=\"node6\" class=\"node\">\n",
       "<title>5</title>\n",
       "<polygon fill=\"none\" stroke=\"black\" points=\"275,-179.5 179,-179.5 179,-111.5 275,-111.5 275,-179.5\"/>\n",
       "<text text-anchor=\"middle\" x=\"227\" y=\"-164.3\" font-family=\"Helvetica,sans-Serif\" font-size=\"14.00\">entropy = 0.0</text>\n",
       "<text text-anchor=\"middle\" x=\"227\" y=\"-149.3\" font-family=\"Helvetica,sans-Serif\" font-size=\"14.00\">samples = 5</text>\n",
       "<text text-anchor=\"middle\" x=\"227\" y=\"-134.3\" font-family=\"Helvetica,sans-Serif\" font-size=\"14.00\">value = [5, 0]</text>\n",
       "<text text-anchor=\"middle\" x=\"227\" y=\"-119.3\" font-family=\"Helvetica,sans-Serif\" font-size=\"14.00\">class = no</text>\n",
       "</g>\n",
       "<!-- 1&#45;&gt;5 -->\n",
       "<g id=\"edge5\" class=\"edge\">\n",
       "<title>1&#45;&gt;5</title>\n",
       "<path fill=\"none\" stroke=\"black\" d=\"M187.16,-222.91C192.92,-211.87 199.16,-199.9 204.96,-188.77\"/>\n",
       "<polygon fill=\"black\" stroke=\"black\" points=\"208.19,-190.15 209.71,-179.67 201.98,-186.92 208.19,-190.15\"/>\n",
       "</g>\n",
       "<!-- 3 -->\n",
       "<g id=\"node4\" class=\"node\">\n",
       "<title>3</title>\n",
       "<polygon fill=\"none\" stroke=\"black\" points=\"96,-68 0,-68 0,0 96,0 96,-68\"/>\n",
       "<text text-anchor=\"middle\" x=\"48\" y=\"-52.8\" font-family=\"Helvetica,sans-Serif\" font-size=\"14.00\">entropy = 0.0</text>\n",
       "<text text-anchor=\"middle\" x=\"48\" y=\"-37.8\" font-family=\"Helvetica,sans-Serif\" font-size=\"14.00\">samples = 4</text>\n",
       "<text text-anchor=\"middle\" x=\"48\" y=\"-22.8\" font-family=\"Helvetica,sans-Serif\" font-size=\"14.00\">value = [0, 4]</text>\n",
       "<text text-anchor=\"middle\" x=\"48\" y=\"-7.8\" font-family=\"Helvetica,sans-Serif\" font-size=\"14.00\">class = yes</text>\n",
       "</g>\n",
       "<!-- 2&#45;&gt;3 -->\n",
       "<g id=\"edge3\" class=\"edge\">\n",
       "<title>2&#45;&gt;3</title>\n",
       "<path fill=\"none\" stroke=\"black\" d=\"M83.78,-103.73C79.26,-95.06 74.49,-85.9 69.96,-77.18\"/>\n",
       "<polygon fill=\"black\" stroke=\"black\" points=\"73.06,-75.55 65.33,-68.3 66.85,-78.79 73.06,-75.55\"/>\n",
       "</g>\n",
       "<!-- 4 -->\n",
       "<g id=\"node5\" class=\"node\">\n",
       "<title>4</title>\n",
       "<polygon fill=\"none\" stroke=\"black\" points=\"210,-68 114,-68 114,0 210,0 210,-68\"/>\n",
       "<text text-anchor=\"middle\" x=\"162\" y=\"-52.8\" font-family=\"Helvetica,sans-Serif\" font-size=\"14.00\">entropy = 0.0</text>\n",
       "<text text-anchor=\"middle\" x=\"162\" y=\"-37.8\" font-family=\"Helvetica,sans-Serif\" font-size=\"14.00\">samples = 2</text>\n",
       "<text text-anchor=\"middle\" x=\"162\" y=\"-22.8\" font-family=\"Helvetica,sans-Serif\" font-size=\"14.00\">value = [2, 0]</text>\n",
       "<text text-anchor=\"middle\" x=\"162\" y=\"-7.8\" font-family=\"Helvetica,sans-Serif\" font-size=\"14.00\">class = no</text>\n",
       "</g>\n",
       "<!-- 2&#45;&gt;4 -->\n",
       "<g id=\"edge4\" class=\"edge\">\n",
       "<title>2&#45;&gt;4</title>\n",
       "<path fill=\"none\" stroke=\"black\" d=\"M126.22,-103.73C130.74,-95.06 135.51,-85.9 140.04,-77.18\"/>\n",
       "<polygon fill=\"black\" stroke=\"black\" points=\"143.15,-78.79 144.67,-68.3 136.94,-75.55 143.15,-78.79\"/>\n",
       "</g>\n",
       "</g>\n",
       "</svg>\n"
      ],
      "text/plain": [
       "<graphviz.sources.Source at 0x7bae7674ca30>"
      ]
     },
     "execution_count": 29,
     "metadata": {},
     "output_type": "execute_result"
    }
   ],
   "source": [
    "graph = graphviz.Source(tree.export_graphviz(train_result, out_file=None,\n",
    "                                             feature_names=x_data.columns,\n",
    "                                             class_names=target_names))\n",
    "graph"
   ]
  },
  {
   "cell_type": "code",
   "execution_count": 30,
   "metadata": {
    "colab": {
     "base_uri": "https://localhost:8080/"
    },
    "executionInfo": {
     "elapsed": 1002,
     "status": "ok",
     "timestamp": 1695146712448,
     "user": {
      "displayName": "이지현",
      "userId": "15457042676410261485"
     },
     "user_tz": -540
    },
    "id": "0znJJGYol0eK",
    "outputId": "9f35c60c-e583-4937-e467-85d8125d78be"
   },
   "outputs": [
    {
     "name": "stdout",
     "output_type": "stream",
     "text": [
      "     outlook  temp humidity  windy day-time play\n",
      "0      sunny   hot     high  False   Mon-13   no\n",
      "1      sunny   hot   normal   True   Sun-17  yes\n",
      "2   overcast   hot     high   True    Thu-4   no\n",
      "3      rainy  mild   normal  False   Fri-11  yes\n",
      "4      rainy  cool     high  False   Sat-10  yes\n",
      "5      rainy  cool     high  False    Sun-8   no\n",
      "6   overcast  cool   normal   True   Wed-19  yes\n",
      "7      sunny  mild     high   True   Tue-21   no\n",
      "8      sunny  cool   normal  False   Fri-15  yes\n",
      "9      rainy  mild   normal  False   Sat-13   no\n",
      "10     sunny  mild   normal   True    Mon-9  yes\n",
      "11  overcast  mild     high   True   Tue-20   no\n",
      "12  overcast   hot   normal  False   Thu-14  yes\n",
      "13     rainy  mild     high   True    Fri-6  yes\n"
     ]
    }
   ],
   "source": [
    "#test5\n",
    "#요일과 시간을 합쳐서 작성\n",
    "\n",
    "file_path = \"${PlayTennis5.csv 파일 경로}\"\n",
    "datas = pd.read_csv(file_path)\n",
    "print(datas)"
   ]
  },
  {
   "cell_type": "code",
   "execution_count": 31,
   "metadata": {
    "colab": {
     "base_uri": "https://localhost:8080/"
    },
    "executionInfo": {
     "elapsed": 285,
     "status": "ok",
     "timestamp": 1695146791854,
     "user": {
      "displayName": "이지현",
      "userId": "15457042676410261485"
     },
     "user_tz": -540
    },
    "id": "GmjHy9RTnhZ_",
    "outputId": "d5088f7e-08fe-4345-a214-c274612d4e24"
   },
   "outputs": [
    {
     "name": "stdout",
     "output_type": "stream",
     "text": [
      "target_names : ['no' 'yes']\n",
      "    outlook  temp  humidity  windy  day-time  play\n",
      "0         2     1         0      0         3     0\n",
      "1         2     1         1      1         7     1\n",
      "2         0     1         0      1        10     0\n",
      "3         1     2         1      0         0     1\n",
      "4         1     0         0      0         5     1\n",
      "5         1     0         0      0         8     0\n",
      "6         0     0         1      1        13     1\n",
      "7         2     2         0      1        12     0\n",
      "8         2     0         1      0         1     1\n",
      "9         1     2         1      0         6     0\n",
      "10        2     2         1      1         4     1\n",
      "11        0     2         0      1        11     0\n",
      "12        0     1         1      0         9     1\n",
      "13        1     2         0      1         2     1\n"
     ]
    }
   ],
   "source": [
    "label_encoder = LabelEncoder()\n",
    "\n",
    "target_names = label_encoder.fit(datas['play']).classes_\n",
    "print(\"target_names : {}\".format(target_names))\n",
    "\n",
    "datas['outlook'] = label_encoder.fit_transform(datas['outlook'])\n",
    "datas['temp'] = label_encoder.fit_transform(datas['temp'])\n",
    "datas['humidity'] = label_encoder.fit_transform(datas['humidity'])\n",
    "datas['windy'] = label_encoder.fit_transform(datas['windy'])\n",
    "datas['day-time'] = label_encoder.fit_transform(datas['day-time'])\n",
    "datas['play'] = label_encoder.fit_transform(datas['play'])\n",
    "\n",
    "print(datas)"
   ]
  },
  {
   "cell_type": "code",
   "execution_count": 32,
   "metadata": {
    "colab": {
     "base_uri": "https://localhost:8080/"
    },
    "executionInfo": {
     "elapsed": 8,
     "status": "ok",
     "timestamp": 1695146803349,
     "user": {
      "displayName": "이지현",
      "userId": "15457042676410261485"
     },
     "user_tz": -540
    },
    "id": "Buo9bwGHn1B0",
    "outputId": "44b2ec88-dad2-4e2a-b1e5-988f6d554c5d"
   },
   "outputs": [
    {
     "name": "stdout",
     "output_type": "stream",
     "text": [
      "    outlook  temp  humidity  windy  day-time\n",
      "0         2     1         0      0         3\n",
      "1         2     1         1      1         7\n",
      "2         0     1         0      1        10\n",
      "3         1     2         1      0         0\n",
      "4         1     0         0      0         5\n",
      "5         1     0         0      0         8\n",
      "6         0     0         1      1        13\n",
      "7         2     2         0      1        12\n",
      "8         2     0         1      0         1\n",
      "9         1     2         1      0         6\n",
      "10        2     2         1      1         4\n",
      "11        0     2         0      1        11\n",
      "12        0     1         1      0         9\n",
      "13        1     2         0      1         2\n",
      "\n",
      "0     0\n",
      "1     1\n",
      "2     0\n",
      "3     1\n",
      "4     1\n",
      "5     0\n",
      "6     1\n",
      "7     0\n",
      "8     1\n",
      "9     0\n",
      "10    1\n",
      "11    0\n",
      "12    1\n",
      "13    1\n",
      "Name: play, dtype: int64\n"
     ]
    }
   ],
   "source": [
    "x_data, y_data = datas.drop(['play'], axis=1), datas['play']\n",
    "\n",
    "print(x_data)\n",
    "print()\n",
    "print(y_data)"
   ]
  },
  {
   "cell_type": "code",
   "execution_count": 33,
   "metadata": {
    "executionInfo": {
     "elapsed": 8,
     "status": "ok",
     "timestamp": 1695146812412,
     "user": {
      "displayName": "이지현",
      "userId": "15457042676410261485"
     },
     "user_tz": -540
    },
    "id": "b_K2qGc4n32M"
   },
   "outputs": [],
   "source": [
    "decision_tree = tree.DecisionTreeClassifier(criterion = 'entropy')\n",
    "train_result = decision_tree.fit(x_data, y_data)"
   ]
  },
  {
   "cell_type": "code",
   "execution_count": 34,
   "metadata": {
    "colab": {
     "base_uri": "https://localhost:8080/",
     "height": 617
    },
    "executionInfo": {
     "elapsed": 5,
     "status": "ok",
     "timestamp": 1695146818776,
     "user": {
      "displayName": "이지현",
      "userId": "15457042676410261485"
     },
     "user_tz": -540
    },
    "id": "l04gie2yn6Ef",
    "outputId": "86c7551d-6645-4b41-8813-f96be97bd9d6"
   },
   "outputs": [
    {
     "data": {
      "image/svg+xml": [
       "<?xml version=\"1.0\" encoding=\"UTF-8\" standalone=\"no\"?>\n",
       "<!DOCTYPE svg PUBLIC \"-//W3C//DTD SVG 1.1//EN\"\n",
       " \"http://www.w3.org/Graphics/SVG/1.1/DTD/svg11.dtd\">\n",
       "<!-- Generated by graphviz version 2.43.0 (0)\n",
       " -->\n",
       "<!-- Title: Tree Pages: 1 -->\n",
       "<svg width=\"584pt\" height=\"433pt\"\n",
       " viewBox=\"0.00 0.00 584.00 433.00\" xmlns=\"http://www.w3.org/2000/svg\" xmlns:xlink=\"http://www.w3.org/1999/xlink\">\n",
       "<g id=\"graph0\" class=\"graph\" transform=\"scale(1 1) rotate(0) translate(4 429)\">\n",
       "<title>Tree</title>\n",
       "<polygon fill=\"white\" stroke=\"transparent\" points=\"-4,4 -4,-429 580,-429 580,4 -4,4\"/>\n",
       "<!-- 0 -->\n",
       "<g id=\"node1\" class=\"node\">\n",
       "<title>0</title>\n",
       "<polygon fill=\"none\" stroke=\"black\" points=\"343.5,-425 232.5,-425 232.5,-342 343.5,-342 343.5,-425\"/>\n",
       "<text text-anchor=\"middle\" x=\"288\" y=\"-409.8\" font-family=\"Helvetica,sans-Serif\" font-size=\"14.00\">humidity &lt;= 0.5</text>\n",
       "<text text-anchor=\"middle\" x=\"288\" y=\"-394.8\" font-family=\"Helvetica,sans-Serif\" font-size=\"14.00\">entropy = 0.985</text>\n",
       "<text text-anchor=\"middle\" x=\"288\" y=\"-379.8\" font-family=\"Helvetica,sans-Serif\" font-size=\"14.00\">samples = 14</text>\n",
       "<text text-anchor=\"middle\" x=\"288\" y=\"-364.8\" font-family=\"Helvetica,sans-Serif\" font-size=\"14.00\">value = [6, 8]</text>\n",
       "<text text-anchor=\"middle\" x=\"288\" y=\"-349.8\" font-family=\"Helvetica,sans-Serif\" font-size=\"14.00\">class = yes</text>\n",
       "</g>\n",
       "<!-- 1 -->\n",
       "<g id=\"node2\" class=\"node\">\n",
       "<title>1</title>\n",
       "<polygon fill=\"none\" stroke=\"black\" points=\"279,-306 167,-306 167,-223 279,-223 279,-306\"/>\n",
       "<text text-anchor=\"middle\" x=\"223\" y=\"-290.8\" font-family=\"Helvetica,sans-Serif\" font-size=\"14.00\">day&#45;time &lt;= 6.5</text>\n",
       "<text text-anchor=\"middle\" x=\"223\" y=\"-275.8\" font-family=\"Helvetica,sans-Serif\" font-size=\"14.00\">entropy = 0.863</text>\n",
       "<text text-anchor=\"middle\" x=\"223\" y=\"-260.8\" font-family=\"Helvetica,sans-Serif\" font-size=\"14.00\">samples = 7</text>\n",
       "<text text-anchor=\"middle\" x=\"223\" y=\"-245.8\" font-family=\"Helvetica,sans-Serif\" font-size=\"14.00\">value = [5, 2]</text>\n",
       "<text text-anchor=\"middle\" x=\"223\" y=\"-230.8\" font-family=\"Helvetica,sans-Serif\" font-size=\"14.00\">class = no</text>\n",
       "</g>\n",
       "<!-- 0&#45;&gt;1 -->\n",
       "<g id=\"edge1\" class=\"edge\">\n",
       "<title>0&#45;&gt;1</title>\n",
       "<path fill=\"none\" stroke=\"black\" d=\"M265.45,-341.91C260.61,-333.2 255.44,-323.9 250.44,-314.89\"/>\n",
       "<polygon fill=\"black\" stroke=\"black\" points=\"253.43,-313.06 245.51,-306.02 247.31,-316.46 253.43,-313.06\"/>\n",
       "<text text-anchor=\"middle\" x=\"238.64\" y=\"-326.36\" font-family=\"Helvetica,sans-Serif\" font-size=\"14.00\">True</text>\n",
       "</g>\n",
       "<!-- 6 -->\n",
       "<g id=\"node7\" class=\"node\">\n",
       "<title>6</title>\n",
       "<polygon fill=\"none\" stroke=\"black\" points=\"408.5,-306 297.5,-306 297.5,-223 408.5,-223 408.5,-306\"/>\n",
       "<text text-anchor=\"middle\" x=\"353\" y=\"-290.8\" font-family=\"Helvetica,sans-Serif\" font-size=\"14.00\">temp &lt;= 1.5</text>\n",
       "<text text-anchor=\"middle\" x=\"353\" y=\"-275.8\" font-family=\"Helvetica,sans-Serif\" font-size=\"14.00\">entropy = 0.592</text>\n",
       "<text text-anchor=\"middle\" x=\"353\" y=\"-260.8\" font-family=\"Helvetica,sans-Serif\" font-size=\"14.00\">samples = 7</text>\n",
       "<text text-anchor=\"middle\" x=\"353\" y=\"-245.8\" font-family=\"Helvetica,sans-Serif\" font-size=\"14.00\">value = [1, 6]</text>\n",
       "<text text-anchor=\"middle\" x=\"353\" y=\"-230.8\" font-family=\"Helvetica,sans-Serif\" font-size=\"14.00\">class = yes</text>\n",
       "</g>\n",
       "<!-- 0&#45;&gt;6 -->\n",
       "<g id=\"edge6\" class=\"edge\">\n",
       "<title>0&#45;&gt;6</title>\n",
       "<path fill=\"none\" stroke=\"black\" d=\"M310.55,-341.91C315.39,-333.2 320.56,-323.9 325.56,-314.89\"/>\n",
       "<polygon fill=\"black\" stroke=\"black\" points=\"328.69,-316.46 330.49,-306.02 322.57,-313.06 328.69,-316.46\"/>\n",
       "<text text-anchor=\"middle\" x=\"337.36\" y=\"-326.36\" font-family=\"Helvetica,sans-Serif\" font-size=\"14.00\">False</text>\n",
       "</g>\n",
       "<!-- 2 -->\n",
       "<g id=\"node3\" class=\"node\">\n",
       "<title>2</title>\n",
       "<polygon fill=\"none\" stroke=\"black\" points=\"160.5,-187 49.5,-187 49.5,-104 160.5,-104 160.5,-187\"/>\n",
       "<text text-anchor=\"middle\" x=\"105\" y=\"-171.8\" font-family=\"Helvetica,sans-Serif\" font-size=\"14.00\">outlook &lt;= 1.5</text>\n",
       "<text text-anchor=\"middle\" x=\"105\" y=\"-156.8\" font-family=\"Helvetica,sans-Serif\" font-size=\"14.00\">entropy = 0.918</text>\n",
       "<text text-anchor=\"middle\" x=\"105\" y=\"-141.8\" font-family=\"Helvetica,sans-Serif\" font-size=\"14.00\">samples = 3</text>\n",
       "<text text-anchor=\"middle\" x=\"105\" y=\"-126.8\" font-family=\"Helvetica,sans-Serif\" font-size=\"14.00\">value = [1, 2]</text>\n",
       "<text text-anchor=\"middle\" x=\"105\" y=\"-111.8\" font-family=\"Helvetica,sans-Serif\" font-size=\"14.00\">class = yes</text>\n",
       "</g>\n",
       "<!-- 1&#45;&gt;2 -->\n",
       "<g id=\"edge2\" class=\"edge\">\n",
       "<title>1&#45;&gt;2</title>\n",
       "<path fill=\"none\" stroke=\"black\" d=\"M182.06,-222.91C172.72,-213.65 162.72,-203.73 153.12,-194.21\"/>\n",
       "<polygon fill=\"black\" stroke=\"black\" points=\"155.43,-191.58 145.87,-187.02 150.5,-196.55 155.43,-191.58\"/>\n",
       "</g>\n",
       "<!-- 5 -->\n",
       "<g id=\"node6\" class=\"node\">\n",
       "<title>5</title>\n",
       "<polygon fill=\"none\" stroke=\"black\" points=\"275,-179.5 179,-179.5 179,-111.5 275,-111.5 275,-179.5\"/>\n",
       "<text text-anchor=\"middle\" x=\"227\" y=\"-164.3\" font-family=\"Helvetica,sans-Serif\" font-size=\"14.00\">entropy = 0.0</text>\n",
       "<text text-anchor=\"middle\" x=\"227\" y=\"-149.3\" font-family=\"Helvetica,sans-Serif\" font-size=\"14.00\">samples = 4</text>\n",
       "<text text-anchor=\"middle\" x=\"227\" y=\"-134.3\" font-family=\"Helvetica,sans-Serif\" font-size=\"14.00\">value = [4, 0]</text>\n",
       "<text text-anchor=\"middle\" x=\"227\" y=\"-119.3\" font-family=\"Helvetica,sans-Serif\" font-size=\"14.00\">class = no</text>\n",
       "</g>\n",
       "<!-- 1&#45;&gt;5 -->\n",
       "<g id=\"edge5\" class=\"edge\">\n",
       "<title>1&#45;&gt;5</title>\n",
       "<path fill=\"none\" stroke=\"black\" d=\"M224.39,-222.91C224.75,-212.2 225.15,-200.62 225.52,-189.78\"/>\n",
       "<polygon fill=\"black\" stroke=\"black\" points=\"229.02,-189.78 225.87,-179.67 222.03,-189.54 229.02,-189.78\"/>\n",
       "</g>\n",
       "<!-- 3 -->\n",
       "<g id=\"node4\" class=\"node\">\n",
       "<title>3</title>\n",
       "<polygon fill=\"none\" stroke=\"black\" points=\"96,-68 0,-68 0,0 96,0 96,-68\"/>\n",
       "<text text-anchor=\"middle\" x=\"48\" y=\"-52.8\" font-family=\"Helvetica,sans-Serif\" font-size=\"14.00\">entropy = 0.0</text>\n",
       "<text text-anchor=\"middle\" x=\"48\" y=\"-37.8\" font-family=\"Helvetica,sans-Serif\" font-size=\"14.00\">samples = 2</text>\n",
       "<text text-anchor=\"middle\" x=\"48\" y=\"-22.8\" font-family=\"Helvetica,sans-Serif\" font-size=\"14.00\">value = [0, 2]</text>\n",
       "<text text-anchor=\"middle\" x=\"48\" y=\"-7.8\" font-family=\"Helvetica,sans-Serif\" font-size=\"14.00\">class = yes</text>\n",
       "</g>\n",
       "<!-- 2&#45;&gt;3 -->\n",
       "<g id=\"edge3\" class=\"edge\">\n",
       "<title>2&#45;&gt;3</title>\n",
       "<path fill=\"none\" stroke=\"black\" d=\"M83.78,-103.73C79.26,-95.06 74.49,-85.9 69.96,-77.18\"/>\n",
       "<polygon fill=\"black\" stroke=\"black\" points=\"73.06,-75.55 65.33,-68.3 66.85,-78.79 73.06,-75.55\"/>\n",
       "</g>\n",
       "<!-- 4 -->\n",
       "<g id=\"node5\" class=\"node\">\n",
       "<title>4</title>\n",
       "<polygon fill=\"none\" stroke=\"black\" points=\"210,-68 114,-68 114,0 210,0 210,-68\"/>\n",
       "<text text-anchor=\"middle\" x=\"162\" y=\"-52.8\" font-family=\"Helvetica,sans-Serif\" font-size=\"14.00\">entropy = 0.0</text>\n",
       "<text text-anchor=\"middle\" x=\"162\" y=\"-37.8\" font-family=\"Helvetica,sans-Serif\" font-size=\"14.00\">samples = 1</text>\n",
       "<text text-anchor=\"middle\" x=\"162\" y=\"-22.8\" font-family=\"Helvetica,sans-Serif\" font-size=\"14.00\">value = [1, 0]</text>\n",
       "<text text-anchor=\"middle\" x=\"162\" y=\"-7.8\" font-family=\"Helvetica,sans-Serif\" font-size=\"14.00\">class = no</text>\n",
       "</g>\n",
       "<!-- 2&#45;&gt;4 -->\n",
       "<g id=\"edge4\" class=\"edge\">\n",
       "<title>2&#45;&gt;4</title>\n",
       "<path fill=\"none\" stroke=\"black\" d=\"M126.22,-103.73C130.74,-95.06 135.51,-85.9 140.04,-77.18\"/>\n",
       "<polygon fill=\"black\" stroke=\"black\" points=\"143.15,-78.79 144.67,-68.3 136.94,-75.55 143.15,-78.79\"/>\n",
       "</g>\n",
       "<!-- 7 -->\n",
       "<g id=\"node8\" class=\"node\">\n",
       "<title>7</title>\n",
       "<polygon fill=\"none\" stroke=\"black\" points=\"397,-179.5 301,-179.5 301,-111.5 397,-111.5 397,-179.5\"/>\n",
       "<text text-anchor=\"middle\" x=\"349\" y=\"-164.3\" font-family=\"Helvetica,sans-Serif\" font-size=\"14.00\">entropy = 0.0</text>\n",
       "<text text-anchor=\"middle\" x=\"349\" y=\"-149.3\" font-family=\"Helvetica,sans-Serif\" font-size=\"14.00\">samples = 4</text>\n",
       "<text text-anchor=\"middle\" x=\"349\" y=\"-134.3\" font-family=\"Helvetica,sans-Serif\" font-size=\"14.00\">value = [0, 4]</text>\n",
       "<text text-anchor=\"middle\" x=\"349\" y=\"-119.3\" font-family=\"Helvetica,sans-Serif\" font-size=\"14.00\">class = yes</text>\n",
       "</g>\n",
       "<!-- 6&#45;&gt;7 -->\n",
       "<g id=\"edge7\" class=\"edge\">\n",
       "<title>6&#45;&gt;7</title>\n",
       "<path fill=\"none\" stroke=\"black\" d=\"M351.61,-222.91C351.25,-212.2 350.85,-200.62 350.48,-189.78\"/>\n",
       "<polygon fill=\"black\" stroke=\"black\" points=\"353.97,-189.54 350.13,-179.67 346.98,-189.78 353.97,-189.54\"/>\n",
       "</g>\n",
       "<!-- 8 -->\n",
       "<g id=\"node9\" class=\"node\">\n",
       "<title>8</title>\n",
       "<polygon fill=\"none\" stroke=\"black\" points=\"527,-187 415,-187 415,-104 527,-104 527,-187\"/>\n",
       "<text text-anchor=\"middle\" x=\"471\" y=\"-171.8\" font-family=\"Helvetica,sans-Serif\" font-size=\"14.00\">day&#45;time &lt;= 5.0</text>\n",
       "<text text-anchor=\"middle\" x=\"471\" y=\"-156.8\" font-family=\"Helvetica,sans-Serif\" font-size=\"14.00\">entropy = 0.918</text>\n",
       "<text text-anchor=\"middle\" x=\"471\" y=\"-141.8\" font-family=\"Helvetica,sans-Serif\" font-size=\"14.00\">samples = 3</text>\n",
       "<text text-anchor=\"middle\" x=\"471\" y=\"-126.8\" font-family=\"Helvetica,sans-Serif\" font-size=\"14.00\">value = [1, 2]</text>\n",
       "<text text-anchor=\"middle\" x=\"471\" y=\"-111.8\" font-family=\"Helvetica,sans-Serif\" font-size=\"14.00\">class = yes</text>\n",
       "</g>\n",
       "<!-- 6&#45;&gt;8 -->\n",
       "<g id=\"edge8\" class=\"edge\">\n",
       "<title>6&#45;&gt;8</title>\n",
       "<path fill=\"none\" stroke=\"black\" d=\"M393.94,-222.91C403.28,-213.65 413.28,-203.73 422.88,-194.21\"/>\n",
       "<polygon fill=\"black\" stroke=\"black\" points=\"425.5,-196.55 430.13,-187.02 420.57,-191.58 425.5,-196.55\"/>\n",
       "</g>\n",
       "<!-- 9 -->\n",
       "<g id=\"node10\" class=\"node\">\n",
       "<title>9</title>\n",
       "<polygon fill=\"none\" stroke=\"black\" points=\"462,-68 366,-68 366,0 462,0 462,-68\"/>\n",
       "<text text-anchor=\"middle\" x=\"414\" y=\"-52.8\" font-family=\"Helvetica,sans-Serif\" font-size=\"14.00\">entropy = 0.0</text>\n",
       "<text text-anchor=\"middle\" x=\"414\" y=\"-37.8\" font-family=\"Helvetica,sans-Serif\" font-size=\"14.00\">samples = 2</text>\n",
       "<text text-anchor=\"middle\" x=\"414\" y=\"-22.8\" font-family=\"Helvetica,sans-Serif\" font-size=\"14.00\">value = [0, 2]</text>\n",
       "<text text-anchor=\"middle\" x=\"414\" y=\"-7.8\" font-family=\"Helvetica,sans-Serif\" font-size=\"14.00\">class = yes</text>\n",
       "</g>\n",
       "<!-- 8&#45;&gt;9 -->\n",
       "<g id=\"edge9\" class=\"edge\">\n",
       "<title>8&#45;&gt;9</title>\n",
       "<path fill=\"none\" stroke=\"black\" d=\"M449.78,-103.73C445.26,-95.06 440.49,-85.9 435.96,-77.18\"/>\n",
       "<polygon fill=\"black\" stroke=\"black\" points=\"439.06,-75.55 431.33,-68.3 432.85,-78.79 439.06,-75.55\"/>\n",
       "</g>\n",
       "<!-- 10 -->\n",
       "<g id=\"node11\" class=\"node\">\n",
       "<title>10</title>\n",
       "<polygon fill=\"none\" stroke=\"black\" points=\"576,-68 480,-68 480,0 576,0 576,-68\"/>\n",
       "<text text-anchor=\"middle\" x=\"528\" y=\"-52.8\" font-family=\"Helvetica,sans-Serif\" font-size=\"14.00\">entropy = 0.0</text>\n",
       "<text text-anchor=\"middle\" x=\"528\" y=\"-37.8\" font-family=\"Helvetica,sans-Serif\" font-size=\"14.00\">samples = 1</text>\n",
       "<text text-anchor=\"middle\" x=\"528\" y=\"-22.8\" font-family=\"Helvetica,sans-Serif\" font-size=\"14.00\">value = [1, 0]</text>\n",
       "<text text-anchor=\"middle\" x=\"528\" y=\"-7.8\" font-family=\"Helvetica,sans-Serif\" font-size=\"14.00\">class = no</text>\n",
       "</g>\n",
       "<!-- 8&#45;&gt;10 -->\n",
       "<g id=\"edge10\" class=\"edge\">\n",
       "<title>8&#45;&gt;10</title>\n",
       "<path fill=\"none\" stroke=\"black\" d=\"M492.22,-103.73C496.74,-95.06 501.51,-85.9 506.04,-77.18\"/>\n",
       "<polygon fill=\"black\" stroke=\"black\" points=\"509.15,-78.79 510.67,-68.3 502.94,-75.55 509.15,-78.79\"/>\n",
       "</g>\n",
       "</g>\n",
       "</svg>\n"
      ],
      "text/plain": [
       "<graphviz.sources.Source at 0x7bae7674e350>"
      ]
     },
     "execution_count": 34,
     "metadata": {},
     "output_type": "execute_result"
    }
   ],
   "source": [
    "graph = graphviz.Source(tree.export_graphviz(train_result, out_file=None,\n",
    "                                             feature_names=x_data.columns,\n",
    "                                             class_names=target_names))\n",
    "graph"
   ]
  },
  {
   "cell_type": "code",
   "execution_count": 35,
   "metadata": {
    "colab": {
     "base_uri": "https://localhost:8080/"
    },
    "executionInfo": {
     "elapsed": 291,
     "status": "ok",
     "timestamp": 1695146857278,
     "user": {
      "displayName": "이지현",
      "userId": "15457042676410261485"
     },
     "user_tz": -540
    },
    "id": "WMxKwnJpn7nW",
    "outputId": "43868fc1-4c4d-4b84-dea1-d8635662d027"
   },
   "outputs": [
    {
     "name": "stdout",
     "output_type": "stream",
     "text": [
      "0     True\n",
      "1     True\n",
      "2     True\n",
      "3     True\n",
      "4     True\n",
      "5     True\n",
      "6     True\n",
      "7     True\n",
      "8     True\n",
      "9     True\n",
      "10    True\n",
      "11    True\n",
      "12    True\n",
      "13    True\n",
      "Name: play, dtype: bool\n"
     ]
    }
   ],
   "source": [
    "predict_result = decision_tree.predict(x_data)\n",
    "\n",
    "print(predict_result == y_data)"
   ]
  },
  {
   "cell_type": "code",
   "execution_count": 36,
   "metadata": {
    "colab": {
     "base_uri": "https://localhost:8080/"
    },
    "executionInfo": {
     "elapsed": 735,
     "status": "ok",
     "timestamp": 1695147095770,
     "user": {
      "displayName": "이지현",
      "userId": "15457042676410261485"
     },
     "user_tz": -540
    },
    "id": "tz1o-YvaoE8i",
    "outputId": "c6fbb641-0330-4920-a86f-add579397682"
   },
   "outputs": [
    {
     "name": "stdout",
     "output_type": "stream",
     "text": [
      "     outlook  temp humidity  windy day-time play\n",
      "0      sunny   hot     high  False    Mon-4   no\n",
      "1      sunny   hot   normal   True    Sun-5  yes\n",
      "2   overcast   hot     high   True    Thu-2   no\n",
      "3      rainy  mild   normal  False    Fri-3  yes\n",
      "4      rainy  cool     high  False    Sat-4  yes\n",
      "5      rainy  cool     high  False    Sun-6   no\n",
      "6   overcast  cool   normal   True    Wed-7  yes\n",
      "7      sunny  mild     high   True    Tue-8   no\n",
      "8      sunny  cool   normal  False    Fri-5  yes\n",
      "9      rainy  mild   normal  False    Sat-4   no\n",
      "10     sunny  mild   normal   True    Mon-2  yes\n",
      "11  overcast  mild     high   True    Tue-6   no\n",
      "12  overcast   hot   normal  False    Thu-7  yes\n",
      "13     rainy  mild     high   True    Fri-3  yes\n"
     ]
    }
   ],
   "source": [
    "#test6\n",
    "#요일-시간을 합쳐서 작성\n",
    "#시간은 3시간씩 끊어서 분류 (24시간을 3시간씩 나눠서 1부터 8로 분류)\n",
    "\n",
    "file_path = \"${PlayTennis6.csv 파일 경로}\"\n",
    "datas = pd.read_csv(file_path)\n",
    "print(datas)"
   ]
  },
  {
   "cell_type": "code",
   "execution_count": 37,
   "metadata": {
    "colab": {
     "base_uri": "https://localhost:8080/"
    },
    "executionInfo": {
     "elapsed": 284,
     "status": "ok",
     "timestamp": 1695147131344,
     "user": {
      "displayName": "이지현",
      "userId": "15457042676410261485"
     },
     "user_tz": -540
    },
    "id": "oKWZS-U-o_EO",
    "outputId": "1ebe5a7f-8baf-4a0e-d406-ec73dfa187fd"
   },
   "outputs": [
    {
     "name": "stdout",
     "output_type": "stream",
     "text": [
      "target_names : ['no' 'yes']\n",
      "    outlook  temp  humidity  windy  day-time  play\n",
      "0         2     1         0      0         3     0\n",
      "1         2     1         1      1         5     1\n",
      "2         0     1         0      1         7     0\n",
      "3         1     2         1      0         0     1\n",
      "4         1     0         0      0         4     1\n",
      "5         1     0         0      0         6     0\n",
      "6         0     0         1      1        11     1\n",
      "7         2     2         0      1        10     0\n",
      "8         2     0         1      0         1     1\n",
      "9         1     2         1      0         4     0\n",
      "10        2     2         1      1         2     1\n",
      "11        0     2         0      1         9     0\n",
      "12        0     1         1      0         8     1\n",
      "13        1     2         0      1         0     1\n"
     ]
    }
   ],
   "source": [
    "label_encoder = LabelEncoder()\n",
    "\n",
    "target_names = label_encoder.fit(datas['play']).classes_\n",
    "print(\"target_names : {}\".format(target_names))\n",
    "\n",
    "datas['outlook'] = label_encoder.fit_transform(datas['outlook'])\n",
    "datas['temp'] = label_encoder.fit_transform(datas['temp'])\n",
    "datas['humidity'] = label_encoder.fit_transform(datas['humidity'])\n",
    "datas['windy'] = label_encoder.fit_transform(datas['windy'])\n",
    "datas['day-time'] = label_encoder.fit_transform(datas['day-time'])\n",
    "datas['play'] = label_encoder.fit_transform(datas['play'])\n",
    "\n",
    "print(datas)"
   ]
  },
  {
   "cell_type": "code",
   "execution_count": 38,
   "metadata": {
    "colab": {
     "base_uri": "https://localhost:8080/"
    },
    "executionInfo": {
     "elapsed": 349,
     "status": "ok",
     "timestamp": 1695147140562,
     "user": {
      "displayName": "이지현",
      "userId": "15457042676410261485"
     },
     "user_tz": -540
    },
    "id": "EG3bcsjapH65",
    "outputId": "ffe17707-8f20-4069-ebc1-74e525b8cf56"
   },
   "outputs": [
    {
     "name": "stdout",
     "output_type": "stream",
     "text": [
      "    outlook  temp  humidity  windy  day-time\n",
      "0         2     1         0      0         3\n",
      "1         2     1         1      1         5\n",
      "2         0     1         0      1         7\n",
      "3         1     2         1      0         0\n",
      "4         1     0         0      0         4\n",
      "5         1     0         0      0         6\n",
      "6         0     0         1      1        11\n",
      "7         2     2         0      1        10\n",
      "8         2     0         1      0         1\n",
      "9         1     2         1      0         4\n",
      "10        2     2         1      1         2\n",
      "11        0     2         0      1         9\n",
      "12        0     1         1      0         8\n",
      "13        1     2         0      1         0\n",
      "\n",
      "0     0\n",
      "1     1\n",
      "2     0\n",
      "3     1\n",
      "4     1\n",
      "5     0\n",
      "6     1\n",
      "7     0\n",
      "8     1\n",
      "9     0\n",
      "10    1\n",
      "11    0\n",
      "12    1\n",
      "13    1\n",
      "Name: play, dtype: int64\n"
     ]
    }
   ],
   "source": [
    "x_data, y_data = datas.drop(['play'], axis=1), datas['play']\n",
    "\n",
    "print(x_data)\n",
    "print()\n",
    "print(y_data)"
   ]
  },
  {
   "cell_type": "code",
   "execution_count": 39,
   "metadata": {
    "executionInfo": {
     "elapsed": 396,
     "status": "ok",
     "timestamp": 1695147149710,
     "user": {
      "displayName": "이지현",
      "userId": "15457042676410261485"
     },
     "user_tz": -540
    },
    "id": "EqmvsEuapKF6"
   },
   "outputs": [],
   "source": [
    "decision_tree = tree.DecisionTreeClassifier(criterion = 'entropy')\n",
    "train_result = decision_tree.fit(x_data, y_data)"
   ]
  },
  {
   "cell_type": "code",
   "execution_count": 40,
   "metadata": {
    "colab": {
     "base_uri": "https://localhost:8080/",
     "height": 915
    },
    "executionInfo": {
     "elapsed": 351,
     "status": "ok",
     "timestamp": 1695147155734,
     "user": {
      "displayName": "이지현",
      "userId": "15457042676410261485"
     },
     "user_tz": -540
    },
    "id": "8bLaUQ88pMUM",
    "outputId": "53bb1705-e172-4ed4-e3c7-6441900b284e"
   },
   "outputs": [
    {
     "data": {
      "image/svg+xml": [
       "<?xml version=\"1.0\" encoding=\"UTF-8\" standalone=\"no\"?>\n",
       "<!DOCTYPE svg PUBLIC \"-//W3C//DTD SVG 1.1//EN\"\n",
       " \"http://www.w3.org/Graphics/SVG/1.1/DTD/svg11.dtd\">\n",
       "<!-- Generated by graphviz version 2.43.0 (0)\n",
       " -->\n",
       "<!-- Title: Tree Pages: 1 -->\n",
       "<svg width=\"405pt\" height=\"671pt\"\n",
       " viewBox=\"0.00 0.00 405.00 671.00\" xmlns=\"http://www.w3.org/2000/svg\" xmlns:xlink=\"http://www.w3.org/1999/xlink\">\n",
       "<g id=\"graph0\" class=\"graph\" transform=\"scale(1 1) rotate(0) translate(4 667)\">\n",
       "<title>Tree</title>\n",
       "<polygon fill=\"white\" stroke=\"transparent\" points=\"-4,4 -4,-667 401,-667 401,4 -4,4\"/>\n",
       "<!-- 0 -->\n",
       "<g id=\"node1\" class=\"node\">\n",
       "<title>0</title>\n",
       "<polygon fill=\"none\" stroke=\"black\" points=\"283,-663 171,-663 171,-580 283,-580 283,-663\"/>\n",
       "<text text-anchor=\"middle\" x=\"227\" y=\"-647.8\" font-family=\"Helvetica,sans-Serif\" font-size=\"14.00\">day&#45;time &lt;= 2.5</text>\n",
       "<text text-anchor=\"middle\" x=\"227\" y=\"-632.8\" font-family=\"Helvetica,sans-Serif\" font-size=\"14.00\">entropy = 0.985</text>\n",
       "<text text-anchor=\"middle\" x=\"227\" y=\"-617.8\" font-family=\"Helvetica,sans-Serif\" font-size=\"14.00\">samples = 14</text>\n",
       "<text text-anchor=\"middle\" x=\"227\" y=\"-602.8\" font-family=\"Helvetica,sans-Serif\" font-size=\"14.00\">value = [6, 8]</text>\n",
       "<text text-anchor=\"middle\" x=\"227\" y=\"-587.8\" font-family=\"Helvetica,sans-Serif\" font-size=\"14.00\">class = yes</text>\n",
       "</g>\n",
       "<!-- 1 -->\n",
       "<g id=\"node2\" class=\"node\">\n",
       "<title>1</title>\n",
       "<polygon fill=\"none\" stroke=\"black\" points=\"214,-536.5 118,-536.5 118,-468.5 214,-468.5 214,-536.5\"/>\n",
       "<text text-anchor=\"middle\" x=\"166\" y=\"-521.3\" font-family=\"Helvetica,sans-Serif\" font-size=\"14.00\">entropy = 0.0</text>\n",
       "<text text-anchor=\"middle\" x=\"166\" y=\"-506.3\" font-family=\"Helvetica,sans-Serif\" font-size=\"14.00\">samples = 4</text>\n",
       "<text text-anchor=\"middle\" x=\"166\" y=\"-491.3\" font-family=\"Helvetica,sans-Serif\" font-size=\"14.00\">value = [0, 4]</text>\n",
       "<text text-anchor=\"middle\" x=\"166\" y=\"-476.3\" font-family=\"Helvetica,sans-Serif\" font-size=\"14.00\">class = yes</text>\n",
       "</g>\n",
       "<!-- 0&#45;&gt;1 -->\n",
       "<g id=\"edge1\" class=\"edge\">\n",
       "<title>0&#45;&gt;1</title>\n",
       "<path fill=\"none\" stroke=\"black\" d=\"M205.84,-579.91C200.08,-568.87 193.84,-556.9 188.04,-545.77\"/>\n",
       "<polygon fill=\"black\" stroke=\"black\" points=\"191.02,-543.92 183.29,-536.67 184.81,-547.15 191.02,-543.92\"/>\n",
       "<text text-anchor=\"middle\" x=\"175.79\" y=\"-556.81\" font-family=\"Helvetica,sans-Serif\" font-size=\"14.00\">True</text>\n",
       "</g>\n",
       "<!-- 2 -->\n",
       "<g id=\"node3\" class=\"node\">\n",
       "<title>2</title>\n",
       "<polygon fill=\"none\" stroke=\"black\" points=\"343.5,-544 232.5,-544 232.5,-461 343.5,-461 343.5,-544\"/>\n",
       "<text text-anchor=\"middle\" x=\"288\" y=\"-528.8\" font-family=\"Helvetica,sans-Serif\" font-size=\"14.00\">temp &lt;= 1.5</text>\n",
       "<text text-anchor=\"middle\" x=\"288\" y=\"-513.8\" font-family=\"Helvetica,sans-Serif\" font-size=\"14.00\">entropy = 0.971</text>\n",
       "<text text-anchor=\"middle\" x=\"288\" y=\"-498.8\" font-family=\"Helvetica,sans-Serif\" font-size=\"14.00\">samples = 10</text>\n",
       "<text text-anchor=\"middle\" x=\"288\" y=\"-483.8\" font-family=\"Helvetica,sans-Serif\" font-size=\"14.00\">value = [6, 4]</text>\n",
       "<text text-anchor=\"middle\" x=\"288\" y=\"-468.8\" font-family=\"Helvetica,sans-Serif\" font-size=\"14.00\">class = no</text>\n",
       "</g>\n",
       "<!-- 0&#45;&gt;2 -->\n",
       "<g id=\"edge2\" class=\"edge\">\n",
       "<title>0&#45;&gt;2</title>\n",
       "<path fill=\"none\" stroke=\"black\" d=\"M248.16,-579.91C252.71,-571.2 257.55,-561.9 262.25,-552.89\"/>\n",
       "<polygon fill=\"black\" stroke=\"black\" points=\"265.35,-554.51 266.87,-544.02 259.15,-551.27 265.35,-554.51\"/>\n",
       "<text text-anchor=\"middle\" x=\"274.38\" y=\"-564.17\" font-family=\"Helvetica,sans-Serif\" font-size=\"14.00\">False</text>\n",
       "</g>\n",
       "<!-- 3 -->\n",
       "<g id=\"node4\" class=\"node\">\n",
       "<title>3</title>\n",
       "<polygon fill=\"none\" stroke=\"black\" points=\"282.5,-425 171.5,-425 171.5,-342 282.5,-342 282.5,-425\"/>\n",
       "<text text-anchor=\"middle\" x=\"227\" y=\"-409.8\" font-family=\"Helvetica,sans-Serif\" font-size=\"14.00\">humidity &lt;= 0.5</text>\n",
       "<text text-anchor=\"middle\" x=\"227\" y=\"-394.8\" font-family=\"Helvetica,sans-Serif\" font-size=\"14.00\">entropy = 0.985</text>\n",
       "<text text-anchor=\"middle\" x=\"227\" y=\"-379.8\" font-family=\"Helvetica,sans-Serif\" font-size=\"14.00\">samples = 7</text>\n",
       "<text text-anchor=\"middle\" x=\"227\" y=\"-364.8\" font-family=\"Helvetica,sans-Serif\" font-size=\"14.00\">value = [3, 4]</text>\n",
       "<text text-anchor=\"middle\" x=\"227\" y=\"-349.8\" font-family=\"Helvetica,sans-Serif\" font-size=\"14.00\">class = yes</text>\n",
       "</g>\n",
       "<!-- 2&#45;&gt;3 -->\n",
       "<g id=\"edge3\" class=\"edge\">\n",
       "<title>2&#45;&gt;3</title>\n",
       "<path fill=\"none\" stroke=\"black\" d=\"M266.84,-460.91C262.29,-452.2 257.45,-442.9 252.75,-433.89\"/>\n",
       "<polygon fill=\"black\" stroke=\"black\" points=\"255.85,-432.27 248.13,-425.02 249.65,-435.51 255.85,-432.27\"/>\n",
       "</g>\n",
       "<!-- 10 -->\n",
       "<g id=\"node11\" class=\"node\">\n",
       "<title>10</title>\n",
       "<polygon fill=\"none\" stroke=\"black\" points=\"397,-417.5 301,-417.5 301,-349.5 397,-349.5 397,-417.5\"/>\n",
       "<text text-anchor=\"middle\" x=\"349\" y=\"-402.3\" font-family=\"Helvetica,sans-Serif\" font-size=\"14.00\">entropy = 0.0</text>\n",
       "<text text-anchor=\"middle\" x=\"349\" y=\"-387.3\" font-family=\"Helvetica,sans-Serif\" font-size=\"14.00\">samples = 3</text>\n",
       "<text text-anchor=\"middle\" x=\"349\" y=\"-372.3\" font-family=\"Helvetica,sans-Serif\" font-size=\"14.00\">value = [3, 0]</text>\n",
       "<text text-anchor=\"middle\" x=\"349\" y=\"-357.3\" font-family=\"Helvetica,sans-Serif\" font-size=\"14.00\">class = no</text>\n",
       "</g>\n",
       "<!-- 2&#45;&gt;10 -->\n",
       "<g id=\"edge10\" class=\"edge\">\n",
       "<title>2&#45;&gt;10</title>\n",
       "<path fill=\"none\" stroke=\"black\" d=\"M309.16,-460.91C314.92,-449.87 321.16,-437.9 326.96,-426.77\"/>\n",
       "<polygon fill=\"black\" stroke=\"black\" points=\"330.19,-428.15 331.71,-417.67 323.98,-424.92 330.19,-428.15\"/>\n",
       "</g>\n",
       "<!-- 4 -->\n",
       "<g id=\"node5\" class=\"node\">\n",
       "<title>4</title>\n",
       "<polygon fill=\"none\" stroke=\"black\" points=\"221.5,-306 110.5,-306 110.5,-223 221.5,-223 221.5,-306\"/>\n",
       "<text text-anchor=\"middle\" x=\"166\" y=\"-290.8\" font-family=\"Helvetica,sans-Serif\" font-size=\"14.00\">temp &lt;= 0.5</text>\n",
       "<text text-anchor=\"middle\" x=\"166\" y=\"-275.8\" font-family=\"Helvetica,sans-Serif\" font-size=\"14.00\">entropy = 0.811</text>\n",
       "<text text-anchor=\"middle\" x=\"166\" y=\"-260.8\" font-family=\"Helvetica,sans-Serif\" font-size=\"14.00\">samples = 4</text>\n",
       "<text text-anchor=\"middle\" x=\"166\" y=\"-245.8\" font-family=\"Helvetica,sans-Serif\" font-size=\"14.00\">value = [3, 1]</text>\n",
       "<text text-anchor=\"middle\" x=\"166\" y=\"-230.8\" font-family=\"Helvetica,sans-Serif\" font-size=\"14.00\">class = no</text>\n",
       "</g>\n",
       "<!-- 3&#45;&gt;4 -->\n",
       "<g id=\"edge4\" class=\"edge\">\n",
       "<title>3&#45;&gt;4</title>\n",
       "<path fill=\"none\" stroke=\"black\" d=\"M205.84,-341.91C201.29,-333.2 196.45,-323.9 191.75,-314.89\"/>\n",
       "<polygon fill=\"black\" stroke=\"black\" points=\"194.85,-313.27 187.13,-306.02 188.65,-316.51 194.85,-313.27\"/>\n",
       "</g>\n",
       "<!-- 9 -->\n",
       "<g id=\"node10\" class=\"node\">\n",
       "<title>9</title>\n",
       "<polygon fill=\"none\" stroke=\"black\" points=\"336,-298.5 240,-298.5 240,-230.5 336,-230.5 336,-298.5\"/>\n",
       "<text text-anchor=\"middle\" x=\"288\" y=\"-283.3\" font-family=\"Helvetica,sans-Serif\" font-size=\"14.00\">entropy = 0.0</text>\n",
       "<text text-anchor=\"middle\" x=\"288\" y=\"-268.3\" font-family=\"Helvetica,sans-Serif\" font-size=\"14.00\">samples = 3</text>\n",
       "<text text-anchor=\"middle\" x=\"288\" y=\"-253.3\" font-family=\"Helvetica,sans-Serif\" font-size=\"14.00\">value = [0, 3]</text>\n",
       "<text text-anchor=\"middle\" x=\"288\" y=\"-238.3\" font-family=\"Helvetica,sans-Serif\" font-size=\"14.00\">class = yes</text>\n",
       "</g>\n",
       "<!-- 3&#45;&gt;9 -->\n",
       "<g id=\"edge9\" class=\"edge\">\n",
       "<title>3&#45;&gt;9</title>\n",
       "<path fill=\"none\" stroke=\"black\" d=\"M248.16,-341.91C253.92,-330.87 260.16,-318.9 265.96,-307.77\"/>\n",
       "<polygon fill=\"black\" stroke=\"black\" points=\"269.19,-309.15 270.71,-298.67 262.98,-305.92 269.19,-309.15\"/>\n",
       "</g>\n",
       "<!-- 5 -->\n",
       "<g id=\"node6\" class=\"node\">\n",
       "<title>5</title>\n",
       "<polygon fill=\"none\" stroke=\"black\" points=\"161,-187 49,-187 49,-104 161,-104 161,-187\"/>\n",
       "<text text-anchor=\"middle\" x=\"105\" y=\"-171.8\" font-family=\"Helvetica,sans-Serif\" font-size=\"14.00\">day&#45;time &lt;= 5.0</text>\n",
       "<text text-anchor=\"middle\" x=\"105\" y=\"-156.8\" font-family=\"Helvetica,sans-Serif\" font-size=\"14.00\">entropy = 1.0</text>\n",
       "<text text-anchor=\"middle\" x=\"105\" y=\"-141.8\" font-family=\"Helvetica,sans-Serif\" font-size=\"14.00\">samples = 2</text>\n",
       "<text text-anchor=\"middle\" x=\"105\" y=\"-126.8\" font-family=\"Helvetica,sans-Serif\" font-size=\"14.00\">value = [1, 1]</text>\n",
       "<text text-anchor=\"middle\" x=\"105\" y=\"-111.8\" font-family=\"Helvetica,sans-Serif\" font-size=\"14.00\">class = no</text>\n",
       "</g>\n",
       "<!-- 4&#45;&gt;5 -->\n",
       "<g id=\"edge5\" class=\"edge\">\n",
       "<title>4&#45;&gt;5</title>\n",
       "<path fill=\"none\" stroke=\"black\" d=\"M144.84,-222.91C140.29,-214.2 135.45,-204.9 130.75,-195.89\"/>\n",
       "<polygon fill=\"black\" stroke=\"black\" points=\"133.85,-194.27 126.13,-187.02 127.65,-197.51 133.85,-194.27\"/>\n",
       "</g>\n",
       "<!-- 8 -->\n",
       "<g id=\"node9\" class=\"node\">\n",
       "<title>8</title>\n",
       "<polygon fill=\"none\" stroke=\"black\" points=\"275,-179.5 179,-179.5 179,-111.5 275,-111.5 275,-179.5\"/>\n",
       "<text text-anchor=\"middle\" x=\"227\" y=\"-164.3\" font-family=\"Helvetica,sans-Serif\" font-size=\"14.00\">entropy = 0.0</text>\n",
       "<text text-anchor=\"middle\" x=\"227\" y=\"-149.3\" font-family=\"Helvetica,sans-Serif\" font-size=\"14.00\">samples = 2</text>\n",
       "<text text-anchor=\"middle\" x=\"227\" y=\"-134.3\" font-family=\"Helvetica,sans-Serif\" font-size=\"14.00\">value = [2, 0]</text>\n",
       "<text text-anchor=\"middle\" x=\"227\" y=\"-119.3\" font-family=\"Helvetica,sans-Serif\" font-size=\"14.00\">class = no</text>\n",
       "</g>\n",
       "<!-- 4&#45;&gt;8 -->\n",
       "<g id=\"edge8\" class=\"edge\">\n",
       "<title>4&#45;&gt;8</title>\n",
       "<path fill=\"none\" stroke=\"black\" d=\"M187.16,-222.91C192.92,-211.87 199.16,-199.9 204.96,-188.77\"/>\n",
       "<polygon fill=\"black\" stroke=\"black\" points=\"208.19,-190.15 209.71,-179.67 201.98,-186.92 208.19,-190.15\"/>\n",
       "</g>\n",
       "<!-- 6 -->\n",
       "<g id=\"node7\" class=\"node\">\n",
       "<title>6</title>\n",
       "<polygon fill=\"none\" stroke=\"black\" points=\"96,-68 0,-68 0,0 96,0 96,-68\"/>\n",
       "<text text-anchor=\"middle\" x=\"48\" y=\"-52.8\" font-family=\"Helvetica,sans-Serif\" font-size=\"14.00\">entropy = 0.0</text>\n",
       "<text text-anchor=\"middle\" x=\"48\" y=\"-37.8\" font-family=\"Helvetica,sans-Serif\" font-size=\"14.00\">samples = 1</text>\n",
       "<text text-anchor=\"middle\" x=\"48\" y=\"-22.8\" font-family=\"Helvetica,sans-Serif\" font-size=\"14.00\">value = [0, 1]</text>\n",
       "<text text-anchor=\"middle\" x=\"48\" y=\"-7.8\" font-family=\"Helvetica,sans-Serif\" font-size=\"14.00\">class = yes</text>\n",
       "</g>\n",
       "<!-- 5&#45;&gt;6 -->\n",
       "<g id=\"edge6\" class=\"edge\">\n",
       "<title>5&#45;&gt;6</title>\n",
       "<path fill=\"none\" stroke=\"black\" d=\"M83.78,-103.73C79.26,-95.06 74.49,-85.9 69.96,-77.18\"/>\n",
       "<polygon fill=\"black\" stroke=\"black\" points=\"73.06,-75.55 65.33,-68.3 66.85,-78.79 73.06,-75.55\"/>\n",
       "</g>\n",
       "<!-- 7 -->\n",
       "<g id=\"node8\" class=\"node\">\n",
       "<title>7</title>\n",
       "<polygon fill=\"none\" stroke=\"black\" points=\"210,-68 114,-68 114,0 210,0 210,-68\"/>\n",
       "<text text-anchor=\"middle\" x=\"162\" y=\"-52.8\" font-family=\"Helvetica,sans-Serif\" font-size=\"14.00\">entropy = 0.0</text>\n",
       "<text text-anchor=\"middle\" x=\"162\" y=\"-37.8\" font-family=\"Helvetica,sans-Serif\" font-size=\"14.00\">samples = 1</text>\n",
       "<text text-anchor=\"middle\" x=\"162\" y=\"-22.8\" font-family=\"Helvetica,sans-Serif\" font-size=\"14.00\">value = [1, 0]</text>\n",
       "<text text-anchor=\"middle\" x=\"162\" y=\"-7.8\" font-family=\"Helvetica,sans-Serif\" font-size=\"14.00\">class = no</text>\n",
       "</g>\n",
       "<!-- 5&#45;&gt;7 -->\n",
       "<g id=\"edge7\" class=\"edge\">\n",
       "<title>5&#45;&gt;7</title>\n",
       "<path fill=\"none\" stroke=\"black\" d=\"M126.22,-103.73C130.74,-95.06 135.51,-85.9 140.04,-77.18\"/>\n",
       "<polygon fill=\"black\" stroke=\"black\" points=\"143.15,-78.79 144.67,-68.3 136.94,-75.55 143.15,-78.79\"/>\n",
       "</g>\n",
       "</g>\n",
       "</svg>\n"
      ],
      "text/plain": [
       "<graphviz.sources.Source at 0x7bae3e727e20>"
      ]
     },
     "execution_count": 40,
     "metadata": {},
     "output_type": "execute_result"
    }
   ],
   "source": [
    "graph = graphviz.Source(tree.export_graphviz(train_result, out_file=None,\n",
    "                                             feature_names=x_data.columns,\n",
    "                                             class_names=target_names))\n",
    "graph"
   ]
  }
 ],
 "metadata": {
  "colab": {
   "authorship_tag": "ABX9TyNDIsml00pX28VhjChgVz2z",
   "provenance": []
  },
  "kernelspec": {
   "display_name": "Python 3",
   "name": "python3"
  },
  "language_info": {
   "name": "python"
  }
 },
 "nbformat": 4,
 "nbformat_minor": 0
}
