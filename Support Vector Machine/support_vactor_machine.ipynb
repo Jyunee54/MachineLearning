{
 "cells": [
  {
   "cell_type": "code",
   "execution_count": 1,
   "metadata": {
    "colab": {
     "base_uri": "https://localhost:8080/"
    },
    "executionInfo": {
     "elapsed": 20545,
     "status": "ok",
     "timestamp": 1695789620724,
     "user": {
      "displayName": "이지현",
      "userId": "15457042676410261485"
     },
     "user_tz": -540
    },
    "id": "I80X364EDiA5",
    "outputId": "446a724a-4e14-4b42-b848-b9db2ab6ed69"
   },
   "outputs": [
    {
     "name": "stdout",
     "output_type": "stream",
     "text": [
      "Mounted at /gdrive\n"
     ]
    }
   ],
   "source": [
    "from google.colab import drive\n",
    "drive.mount(\"/gdrive\", force_remount=True)"
   ]
  },
  {
   "cell_type": "code",
   "execution_count": 2,
   "metadata": {
    "colab": {
     "base_uri": "https://localhost:8080/"
    },
    "executionInfo": {
     "elapsed": 472,
     "status": "ok",
     "timestamp": 1695789623638,
     "user": {
      "displayName": "이지현",
      "userId": "15457042676410261485"
     },
     "user_tz": -540
    },
    "id": "a3qgotrYDqSe",
    "outputId": "386432c6-a5e9-4e51-f790-b324e22aa583"
   },
   "outputs": [
    {
     "name": "stdout",
     "output_type": "stream",
     "text": [
      "x_data의 개수 : 100\n",
      "y_data의 개수 : 100\n"
     ]
    }
   ],
   "source": [
    "import numpy as np\n",
    "\n",
    "file_path = \"SMSSpamCollection.dat 파일 위치\"\n",
    "\n",
    "x_data, y_data = [], []\n",
    "with open(file_path,'r',encoding='utf8') as inFile:\n",
    "  lines = inFile.readlines()\n",
    "\n",
    "lines = lines[:100]\n",
    "\n",
    "for line in lines:\n",
    "  line = line.strip().split('\\t')\n",
    "  sentence, label = line[1], line[0]\n",
    "  x_data.append(sentence)\n",
    "  y_data.append(label)\n",
    "\n",
    "print(\"x_data의 개수 : \" + str(len(x_data)))\n",
    "print(\"y_data의 개수 : \" + str(len(y_data)))"
   ]
  },
  {
   "cell_type": "code",
   "execution_count": 3,
   "metadata": {
    "colab": {
     "base_uri": "https://localhost:8080/"
    },
    "executionInfo": {
     "elapsed": 3329,
     "status": "ok",
     "timestamp": 1695789675067,
     "user": {
      "displayName": "이지현",
      "userId": "15457042676410261485"
     },
     "user_tz": -540
    },
    "id": "L309ld6dKaxD",
    "outputId": "ab57e85c-663a-4489-ec62-9eb31b7b95f6"
   },
   "outputs": [
    {
     "name": "stdout",
     "output_type": "stream",
     "text": [
      "영어 불용어 갯수: 179\n",
      "['i', 'me', 'my', 'myself', 'we', 'our', 'ours', 'ourselves', 'you', \"you're\"]\n"
     ]
    },
    {
     "name": "stderr",
     "output_type": "stream",
     "text": [
      "[nltk_data] Downloading package stopwords to /root/nltk_data...\n",
      "[nltk_data]   Unzipping corpora/stopwords.zip.\n"
     ]
    }
   ],
   "source": [
    "#불용어 제거\n",
    "\n",
    "import nltk\n",
    "nltk.download('stopwords')\n",
    "\n",
    "print('영어 불용어 갯수:', len(nltk.corpus.stopwords.words('english')))\n",
    "print(nltk.corpus.stopwords.words('english')[:10])"
   ]
  },
  {
   "cell_type": "code",
   "execution_count": 4,
   "metadata": {
    "colab": {
     "base_uri": "https://localhost:8080/"
    },
    "executionInfo": {
     "elapsed": 1210,
     "status": "ok",
     "timestamp": 1695789681649,
     "user": {
      "displayName": "이지현",
      "userId": "15457042676410261485"
     },
     "user_tz": -540
    },
    "id": "tLbg8V3gMH40",
    "outputId": "72092a70-fc5a-4815-daf0-1f99b4520d10"
   },
   "outputs": [
    {
     "name": "stderr",
     "output_type": "stream",
     "text": [
      "[nltk_data] Downloading package punkt to /root/nltk_data...\n",
      "[nltk_data]   Unzipping tokenizers/punkt.zip.\n"
     ]
    }
   ],
   "source": [
    "from nltk.corpus import stopwords\n",
    "from nltk.tokenize import word_tokenize\n",
    "nltk.download('punkt')\n",
    "\n",
    "def remove_stopwords(sentence):\n",
    "  #nltk의 불용어 리스트\n",
    "  stop_words = set(stopwords.words('english'))\n",
    "\n",
    "  #문장을 단어로 토큰화\n",
    "  words = word_tokenize(sentence)\n",
    "\n",
    "  #불용어를 제거한 새로운 문장 생성\n",
    "  filtered_sentence = [word for word in words if word.lower() not in stop_words]\n",
    "\n",
    "  #문장으로 결합\n",
    "  new_sentence = ' '.join(filtered_sentence)\n",
    "\n",
    "  return new_sentence\n",
    "\n",
    "for x in x_data:\n",
    "  x = remove_stopwords(x)"
   ]
  },
  {
   "cell_type": "code",
   "execution_count": 5,
   "metadata": {
    "colab": {
     "base_uri": "https://localhost:8080/"
    },
    "executionInfo": {
     "elapsed": 4303,
     "status": "ok",
     "timestamp": 1695789694655,
     "user": {
      "displayName": "이지현",
      "userId": "15457042676410261485"
     },
     "user_tz": -540
    },
    "id": "_q6qwN0LEiN8",
    "outputId": "18a5ee18-1838-42c1-a899-20c89711b458"
   },
   "outputs": [
    {
     "name": "stdout",
     "output_type": "stream",
     "text": [
      "x_data indexing 하기 전 : Go until jurong point, crazy.. Available only in bugis n great world la e buffet... Cine there got amore wat...\n",
      "x_data indexing 하기 후 : [38, 93, 239, 240, 241, 242, 53, 11, 243, 72, 94, 244, 245, 126, 246, 247, 73, 74, 248, 127]\n",
      "y_data indexing 하기 전 : ham\n",
      "y_data indexing 하기 후 : 1\n"
     ]
    }
   ],
   "source": [
    "from keras.preprocessing.text import Tokenizer\n",
    "tokenizer = Tokenizer()\n",
    "\n",
    "label2index_dict = {'spam':0, 'ham':1}\n",
    "\n",
    "indexing_x_data, indexing_y_data = [], []\n",
    "\n",
    "for label in y_data:\n",
    "  indexing_y_data.append(label2index_dict[label])\n",
    "\n",
    "tokenizer.fit_on_texts(x_data)\n",
    "\n",
    "indexing_x_data = tokenizer.texts_to_sequences(x_data)\n",
    "\n",
    "print(\"x_data indexing 하기 전 : \" + str(x_data[0]))\n",
    "print(\"x_data indexing 하기 후 : \" + str(indexing_x_data[0]))\n",
    "print(\"y_data indexing 하기 전 : \" + str(y_data[0]))\n",
    "print(\"y_data indexing 하기 후 : \" + str(indexing_y_data[0]))"
   ]
  },
  {
   "cell_type": "code",
   "execution_count": 6,
   "metadata": {
    "colab": {
     "base_uri": "https://localhost:8080/",
     "height": 147
    },
    "executionInfo": {
     "elapsed": 402,
     "status": "ok",
     "timestamp": 1695789697152,
     "user": {
      "displayName": "이지현",
      "userId": "15457042676410261485"
     },
     "user_tz": -540
    },
    "id": "eGtPlNStFs7E",
    "outputId": "7184e545-dc01-4222-b9e6-d9969d6367da"
   },
   "outputs": [
    {
     "name": "stdout",
     "output_type": "stream",
     "text": [
      "train_x의 개수 : 90\n",
      "train_y의 개수 : 90\n",
      "test_x의 개수 : 10\n",
      "test_y의 개수 : 10\n"
     ]
    },
    {
     "data": {
      "text/html": [
       "<style>#sk-container-id-1 {color: black;background-color: white;}#sk-container-id-1 pre{padding: 0;}#sk-container-id-1 div.sk-toggleable {background-color: white;}#sk-container-id-1 label.sk-toggleable__label {cursor: pointer;display: block;width: 100%;margin-bottom: 0;padding: 0.3em;box-sizing: border-box;text-align: center;}#sk-container-id-1 label.sk-toggleable__label-arrow:before {content: \"▸\";float: left;margin-right: 0.25em;color: #696969;}#sk-container-id-1 label.sk-toggleable__label-arrow:hover:before {color: black;}#sk-container-id-1 div.sk-estimator:hover label.sk-toggleable__label-arrow:before {color: black;}#sk-container-id-1 div.sk-toggleable__content {max-height: 0;max-width: 0;overflow: hidden;text-align: left;background-color: #f0f8ff;}#sk-container-id-1 div.sk-toggleable__content pre {margin: 0.2em;color: black;border-radius: 0.25em;background-color: #f0f8ff;}#sk-container-id-1 input.sk-toggleable__control:checked~div.sk-toggleable__content {max-height: 200px;max-width: 100%;overflow: auto;}#sk-container-id-1 input.sk-toggleable__control:checked~label.sk-toggleable__label-arrow:before {content: \"▾\";}#sk-container-id-1 div.sk-estimator input.sk-toggleable__control:checked~label.sk-toggleable__label {background-color: #d4ebff;}#sk-container-id-1 div.sk-label input.sk-toggleable__control:checked~label.sk-toggleable__label {background-color: #d4ebff;}#sk-container-id-1 input.sk-hidden--visually {border: 0;clip: rect(1px 1px 1px 1px);clip: rect(1px, 1px, 1px, 1px);height: 1px;margin: -1px;overflow: hidden;padding: 0;position: absolute;width: 1px;}#sk-container-id-1 div.sk-estimator {font-family: monospace;background-color: #f0f8ff;border: 1px dotted black;border-radius: 0.25em;box-sizing: border-box;margin-bottom: 0.5em;}#sk-container-id-1 div.sk-estimator:hover {background-color: #d4ebff;}#sk-container-id-1 div.sk-parallel-item::after {content: \"\";width: 100%;border-bottom: 1px solid gray;flex-grow: 1;}#sk-container-id-1 div.sk-label:hover label.sk-toggleable__label {background-color: #d4ebff;}#sk-container-id-1 div.sk-serial::before {content: \"\";position: absolute;border-left: 1px solid gray;box-sizing: border-box;top: 0;bottom: 0;left: 50%;z-index: 0;}#sk-container-id-1 div.sk-serial {display: flex;flex-direction: column;align-items: center;background-color: white;padding-right: 0.2em;padding-left: 0.2em;position: relative;}#sk-container-id-1 div.sk-item {position: relative;z-index: 1;}#sk-container-id-1 div.sk-parallel {display: flex;align-items: stretch;justify-content: center;background-color: white;position: relative;}#sk-container-id-1 div.sk-item::before, #sk-container-id-1 div.sk-parallel-item::before {content: \"\";position: absolute;border-left: 1px solid gray;box-sizing: border-box;top: 0;bottom: 0;left: 50%;z-index: -1;}#sk-container-id-1 div.sk-parallel-item {display: flex;flex-direction: column;z-index: 1;position: relative;background-color: white;}#sk-container-id-1 div.sk-parallel-item:first-child::after {align-self: flex-end;width: 50%;}#sk-container-id-1 div.sk-parallel-item:last-child::after {align-self: flex-start;width: 50%;}#sk-container-id-1 div.sk-parallel-item:only-child::after {width: 0;}#sk-container-id-1 div.sk-dashed-wrapped {border: 1px dashed gray;margin: 0 0.4em 0.5em 0.4em;box-sizing: border-box;padding-bottom: 0.4em;background-color: white;}#sk-container-id-1 div.sk-label label {font-family: monospace;font-weight: bold;display: inline-block;line-height: 1.2em;}#sk-container-id-1 div.sk-label-container {text-align: center;}#sk-container-id-1 div.sk-container {/* jupyter's `normalize.less` sets `[hidden] { display: none; }` but bootstrap.min.css set `[hidden] { display: none !important; }` so we also need the `!important` here to be able to override the default hidden behavior on the sphinx rendered scikit-learn.org. See: https://github.com/scikit-learn/scikit-learn/issues/21755 */display: inline-block !important;position: relative;}#sk-container-id-1 div.sk-text-repr-fallback {display: none;}</style><div id=\"sk-container-id-1\" class=\"sk-top-container\"><div class=\"sk-text-repr-fallback\"><pre>SVC(C=10000000000.0, kernel=&#x27;linear&#x27;)</pre><b>In a Jupyter environment, please rerun this cell to show the HTML representation or trust the notebook. <br />On GitHub, the HTML representation is unable to render, please try loading this page with nbviewer.org.</b></div><div class=\"sk-container\" hidden><div class=\"sk-item\"><div class=\"sk-estimator sk-toggleable\"><input class=\"sk-toggleable__control sk-hidden--visually\" id=\"sk-estimator-id-1\" type=\"checkbox\" checked><label for=\"sk-estimator-id-1\" class=\"sk-toggleable__label sk-toggleable__label-arrow\">SVC</label><div class=\"sk-toggleable__content\"><pre>SVC(C=10000000000.0, kernel=&#x27;linear&#x27;)</pre></div></div></div></div></div>"
      ],
      "text/plain": [
       "SVC(C=10000000000.0, kernel='linear')"
      ]
     },
     "execution_count": 6,
     "metadata": {},
     "output_type": "execute_result"
    }
   ],
   "source": [
    "from sklearn.svm import SVC\n",
    "\n",
    "max_length = 60\n",
    "for index in range(len(indexing_x_data)):\n",
    "  length = len(indexing_x_data[index])\n",
    "\n",
    "  if(length > max_length):\n",
    "    indexing_x_data[index] = indexing_x_data[index][:max_length]\n",
    "  elif(length < max_length):\n",
    "    indexing_x_data[index] = indexing_x_data[index] + [0]*(max_length-length)\n",
    "\n",
    "\n",
    "number_of_train = int(len(indexing_x_data)*0.9)\n",
    "\n",
    "train_x = indexing_x_data[:number_of_train]\n",
    "train_y = indexing_y_data[:number_of_train]\n",
    "test_x = indexing_x_data[number_of_train:]\n",
    "test_y = indexing_y_data[number_of_train:]\n",
    "\n",
    "print(\"train_x의 개수 : \" + str(len(train_x)))\n",
    "print(\"train_y의 개수 : \" + str(len(train_y)))\n",
    "print(\"test_x의 개수 : \" + str(len(test_x)))\n",
    "print(\"test_y의 개수 : \" + str(len(test_y)))\n",
    "\n",
    "svm = SVC(kernel='linear', C=1e10)\n",
    "svm.fit(train_x, train_y)"
   ]
  },
  {
   "cell_type": "code",
   "execution_count": 7,
   "metadata": {
    "colab": {
     "base_uri": "https://localhost:8080/"
    },
    "executionInfo": {
     "elapsed": 522,
     "status": "ok",
     "timestamp": 1695789704173,
     "user": {
      "displayName": "이지현",
      "userId": "15457042676410261485"
     },
     "user_tz": -540
    },
    "id": "1w1KNifUGxAJ",
    "outputId": "c0e3750d-bf1d-4b42-e1ef-698e62fc4e03"
   },
   "outputs": [
    {
     "name": "stdout",
     "output_type": "stream",
     "text": [
      "Accuracy: 80.0\n",
      "\n",
      "문장 :  yeah do don‘t stand to close tho you‘ll catch something\n",
      "정답 :  ham\n",
      "모델 출력 :  spam\n",
      "\n",
      "문장 :  sorry to be a pain is it ok if we meet another night i spent late afternoon in casualty and that means i haven't done any of y stuff42moro and that includes all my time sheets and that sorry\n",
      "정답 :  ham\n",
      "모델 출력 :  spam\n",
      "\n",
      "문장 :  smile in pleasure smile in pain smile when trouble pours like rain smile when sum1 hurts u smile becoz someone still loves to see u smiling\n",
      "정답 :  ham\n",
      "모델 출력 :  ham\n",
      "\n",
      "문장 :  please call our customer service representative on 0800 169 6031 between 10am 9pm as you have won a guaranteed ￡1000 cash or ￡5000 prize\n",
      "정답 :  spam\n",
      "모델 출력 :  spam\n",
      "\n",
      "문장 :  havent planning to buy later i check already lido only got 530 show in e afternoon u finish work already\n",
      "정답 :  ham\n",
      "모델 출력 :  ham\n",
      "\n",
      "문장 :  your free ringtone is waiting to be collected simply text the password mix to 85069 to verify get usher and britney fml po box 5249 mk17 92h 450ppw 16\n",
      "정답 :  spam\n",
      "모델 출력 :  spam\n",
      "\n",
      "문장 :  watching telugu movie wat abt u\n",
      "정답 :  ham\n",
      "모델 출력 :  ham\n",
      "\n",
      "문장 :  i see when we finish we have loads of loans to pay\n",
      "정답 :  ham\n",
      "모델 출력 :  ham\n",
      "\n",
      "문장 :  hi wk been ok on hols now yes on for a bit of a run forgot that i have hairdressers appointment at four so need to get home n shower beforehand does that cause prob for u\n",
      "정답 :  ham\n",
      "모델 출력 :  ham\n",
      "\n",
      "문장 :  i see a cup of coffee animation\n",
      "정답 :  ham\n",
      "모델 출력 :  ham\n"
     ]
    }
   ],
   "source": [
    "predict = svm.predict(test_x)\n",
    "\n",
    "correct_count = 0\n",
    "for index in range(len(predict)):\n",
    "  if(test_y[index] == predict[index]):\n",
    "    correct_count += 1\n",
    "\n",
    "accuracy = 100.0*correct_count/len(test_y)\n",
    "\n",
    "\n",
    "print(\"Accuracy: \" + str(accuracy))\n",
    "\n",
    "index2label = {0:\"spam\", 1:\"ham\"}\n",
    "\n",
    "test_x_word = tokenizer.sequences_to_texts(test_x)\n",
    "\n",
    "for index in range(len(test_x_word)):\n",
    "  print()\n",
    "  print(\"문장 : \", test_x_word[index])\n",
    "  print(\"정답 : \", index2label[test_y[index]])\n",
    "  print(\"모델 출력 : \", index2label[predict[index]])"
   ]
  },
  {
   "cell_type": "code",
   "execution_count": 14,
   "metadata": {
    "colab": {
     "base_uri": "https://localhost:8080/",
     "height": 147
    },
    "executionInfo": {
     "elapsed": 306,
     "status": "ok",
     "timestamp": 1695790647203,
     "user": {
      "displayName": "이지현",
      "userId": "15457042676410261485"
     },
     "user_tz": -540
    },
    "id": "Q9RP2RIC8XZ1",
    "outputId": "b1dfd9eb-29ba-49dd-acb7-ce73805c54a1"
   },
   "outputs": [
    {
     "name": "stdout",
     "output_type": "stream",
     "text": [
      "train_x의 개수 : 1265\n",
      "train_y의 개수 : 90\n",
      "test_x의 개수 : 142\n",
      "test_y의 개수 : 10\n"
     ]
    },
    {
     "data": {
      "text/html": [
       "<style>#sk-container-id-3 {color: black;background-color: white;}#sk-container-id-3 pre{padding: 0;}#sk-container-id-3 div.sk-toggleable {background-color: white;}#sk-container-id-3 label.sk-toggleable__label {cursor: pointer;display: block;width: 100%;margin-bottom: 0;padding: 0.3em;box-sizing: border-box;text-align: center;}#sk-container-id-3 label.sk-toggleable__label-arrow:before {content: \"▸\";float: left;margin-right: 0.25em;color: #696969;}#sk-container-id-3 label.sk-toggleable__label-arrow:hover:before {color: black;}#sk-container-id-3 div.sk-estimator:hover label.sk-toggleable__label-arrow:before {color: black;}#sk-container-id-3 div.sk-toggleable__content {max-height: 0;max-width: 0;overflow: hidden;text-align: left;background-color: #f0f8ff;}#sk-container-id-3 div.sk-toggleable__content pre {margin: 0.2em;color: black;border-radius: 0.25em;background-color: #f0f8ff;}#sk-container-id-3 input.sk-toggleable__control:checked~div.sk-toggleable__content {max-height: 200px;max-width: 100%;overflow: auto;}#sk-container-id-3 input.sk-toggleable__control:checked~label.sk-toggleable__label-arrow:before {content: \"▾\";}#sk-container-id-3 div.sk-estimator input.sk-toggleable__control:checked~label.sk-toggleable__label {background-color: #d4ebff;}#sk-container-id-3 div.sk-label input.sk-toggleable__control:checked~label.sk-toggleable__label {background-color: #d4ebff;}#sk-container-id-3 input.sk-hidden--visually {border: 0;clip: rect(1px 1px 1px 1px);clip: rect(1px, 1px, 1px, 1px);height: 1px;margin: -1px;overflow: hidden;padding: 0;position: absolute;width: 1px;}#sk-container-id-3 div.sk-estimator {font-family: monospace;background-color: #f0f8ff;border: 1px dotted black;border-radius: 0.25em;box-sizing: border-box;margin-bottom: 0.5em;}#sk-container-id-3 div.sk-estimator:hover {background-color: #d4ebff;}#sk-container-id-3 div.sk-parallel-item::after {content: \"\";width: 100%;border-bottom: 1px solid gray;flex-grow: 1;}#sk-container-id-3 div.sk-label:hover label.sk-toggleable__label {background-color: #d4ebff;}#sk-container-id-3 div.sk-serial::before {content: \"\";position: absolute;border-left: 1px solid gray;box-sizing: border-box;top: 0;bottom: 0;left: 50%;z-index: 0;}#sk-container-id-3 div.sk-serial {display: flex;flex-direction: column;align-items: center;background-color: white;padding-right: 0.2em;padding-left: 0.2em;position: relative;}#sk-container-id-3 div.sk-item {position: relative;z-index: 1;}#sk-container-id-3 div.sk-parallel {display: flex;align-items: stretch;justify-content: center;background-color: white;position: relative;}#sk-container-id-3 div.sk-item::before, #sk-container-id-3 div.sk-parallel-item::before {content: \"\";position: absolute;border-left: 1px solid gray;box-sizing: border-box;top: 0;bottom: 0;left: 50%;z-index: -1;}#sk-container-id-3 div.sk-parallel-item {display: flex;flex-direction: column;z-index: 1;position: relative;background-color: white;}#sk-container-id-3 div.sk-parallel-item:first-child::after {align-self: flex-end;width: 50%;}#sk-container-id-3 div.sk-parallel-item:last-child::after {align-self: flex-start;width: 50%;}#sk-container-id-3 div.sk-parallel-item:only-child::after {width: 0;}#sk-container-id-3 div.sk-dashed-wrapped {border: 1px dashed gray;margin: 0 0.4em 0.5em 0.4em;box-sizing: border-box;padding-bottom: 0.4em;background-color: white;}#sk-container-id-3 div.sk-label label {font-family: monospace;font-weight: bold;display: inline-block;line-height: 1.2em;}#sk-container-id-3 div.sk-label-container {text-align: center;}#sk-container-id-3 div.sk-container {/* jupyter's `normalize.less` sets `[hidden] { display: none; }` but bootstrap.min.css set `[hidden] { display: none !important; }` so we also need the `!important` here to be able to override the default hidden behavior on the sphinx rendered scikit-learn.org. See: https://github.com/scikit-learn/scikit-learn/issues/21755 */display: inline-block !important;position: relative;}#sk-container-id-3 div.sk-text-repr-fallback {display: none;}</style><div id=\"sk-container-id-3\" class=\"sk-top-container\"><div class=\"sk-text-repr-fallback\"><pre>SVC(C=10000000000.0, kernel=&#x27;linear&#x27;)</pre><b>In a Jupyter environment, please rerun this cell to show the HTML representation or trust the notebook. <br />On GitHub, the HTML representation is unable to render, please try loading this page with nbviewer.org.</b></div><div class=\"sk-container\" hidden><div class=\"sk-item\"><div class=\"sk-estimator sk-toggleable\"><input class=\"sk-toggleable__control sk-hidden--visually\" id=\"sk-estimator-id-3\" type=\"checkbox\" checked><label for=\"sk-estimator-id-3\" class=\"sk-toggleable__label sk-toggleable__label-arrow\">SVC</label><div class=\"sk-toggleable__content\"><pre>SVC(C=10000000000.0, kernel=&#x27;linear&#x27;)</pre></div></div></div></div></div>"
      ],
      "text/plain": [
       "SVC(C=10000000000.0, kernel='linear')"
      ]
     },
     "execution_count": 14,
     "metadata": {},
     "output_type": "execute_result"
    }
   ],
   "source": [
    "#TF-IDF 방법을 이용하여 성능 개선\n",
    "\n",
    "from sklearn.feature_extraction.text import TfidfVectorizer\n",
    "from sklearn.model_selection import train_test_split\n",
    "from scipy.sparse import csr_matrix\n",
    "\n",
    "# TF-IDF 벡터라이저 초기화\n",
    "vectorizer = TfidfVectorizer()\n",
    "\n",
    "# x_data에 대해 fit_transform 수행\n",
    "tfidf_x_data = vectorizer.fit_transform(x_data)\n",
    "\n",
    "#데이터 분할 (90% 학습, 10% 테스트)\n",
    "train_x, test_x, train_y, test_y = train_test_split(tfidf_x_data,indexing_y_data, test_size=0.1, random_state=42)\n",
    "\n",
    "print(\"train_x의 개수 : \" + str(csr_matrix(train_x).getnnz()))\n",
    "print(\"train_y의 개수 : \" + str(len(train_y)))\n",
    "print(\"test_x의 개수 : \" + str(csr_matrix(test_x).getnnz()))\n",
    "print(\"test_y의 개수 : \" + str(len(test_y)))\n",
    "\n",
    "# SVM 모델 학습\n",
    "svm = SVC(kernel='linear', C=1e10)\n",
    "svm.fit(train_x.toarray(), train_y)"
   ]
  },
  {
   "cell_type": "code",
   "execution_count": 17,
   "metadata": {
    "colab": {
     "base_uri": "https://localhost:8080/"
    },
    "executionInfo": {
     "elapsed": 306,
     "status": "ok",
     "timestamp": 1695792160423,
     "user": {
      "displayName": "이지현",
      "userId": "15457042676410261485"
     },
     "user_tz": -540
    },
    "id": "bC6LDvYmADft",
    "outputId": "503b1f34-19f3-4459-c347-df39b1340e23"
   },
   "outputs": [
    {
     "name": "stdout",
     "output_type": "stream",
     "text": [
      "Accuracy: 100.0\n",
      "\n",
      "문장 :  yeah do don‘t stand to close tho you‘ll catch something\n",
      "정답 :  ham\n",
      "모델 출력 :  ham\n",
      "\n",
      "문장 :  sorry to be a pain is it ok if we meet another night i spent late afternoon in casualty and that means i haven't done any of y stuff42moro and that includes all my time sheets and that sorry\n",
      "정답 :  ham\n",
      "모델 출력 :  ham\n",
      "\n",
      "문장 :  smile in pleasure smile in pain smile when trouble pours like rain smile when sum1 hurts u smile becoz someone still loves to see u smiling\n",
      "정답 :  ham\n",
      "모델 출력 :  ham\n",
      "\n",
      "문장 :  please call our customer service representative on 0800 169 6031 between 10am 9pm as you have won a guaranteed ￡1000 cash or ￡5000 prize\n",
      "정답 :  ham\n",
      "모델 출력 :  ham\n",
      "\n",
      "문장 :  havent planning to buy later i check already lido only got 530 show in e afternoon u finish work already\n",
      "정답 :  ham\n",
      "모델 출력 :  ham\n",
      "\n",
      "문장 :  your free ringtone is waiting to be collected simply text the password mix to 85069 to verify get usher and britney fml po box 5249 mk17 92h 450ppw 16\n",
      "정답 :  ham\n",
      "모델 출력 :  ham\n",
      "\n",
      "문장 :  watching telugu movie wat abt u\n",
      "정답 :  ham\n",
      "모델 출력 :  ham\n",
      "\n",
      "문장 :  i see when we finish we have loads of loans to pay\n",
      "정답 :  ham\n",
      "모델 출력 :  ham\n",
      "\n",
      "문장 :  hi wk been ok on hols now yes on for a bit of a run forgot that i have hairdressers appointment at four so need to get home n shower beforehand does that cause prob for u\n",
      "정답 :  ham\n",
      "모델 출력 :  ham\n",
      "\n",
      "문장 :  i see a cup of coffee animation\n",
      "정답 :  ham\n",
      "모델 출력 :  ham\n"
     ]
    }
   ],
   "source": [
    "predict = svm.predict(test_x.toarray())\n",
    "\n",
    "accuracy = 100.0 * sum(test_y == predict) / len(test_y)\n",
    "\n",
    "print(\"Accuracy: \" + str(accuracy))\n",
    "\n",
    "for index in range(len(test_x_word)):\n",
    "  print()\n",
    "  print(\"문장 : \", test_x_word[index])\n",
    "  print(\"정답 : \", index2label[test_y[index]])\n",
    "  print(\"모델 출력 : \", index2label[predict[index]])"
   ]
  }
 ],
 "metadata": {
  "colab": {
   "authorship_tag": "ABX9TyMOgcVOLGyiywk+kXcu4alS",
   "provenance": []
  },
  "kernelspec": {
   "display_name": "Python 3",
   "name": "python3"
  },
  "language_info": {
   "name": "python"
  }
 },
 "nbformat": 4,
 "nbformat_minor": 0
}
